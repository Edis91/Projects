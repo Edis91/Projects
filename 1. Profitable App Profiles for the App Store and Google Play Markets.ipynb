{
 "cells": [
  {
   "cell_type": "markdown",
   "metadata": {},
   "source": [
    "# Edis Grudic / 2019-05-19"
   ]
  },
  {
   "cell_type": "markdown",
   "metadata": {},
   "source": [
    "# Looking into profitability of apps on App Store and Google Play markets\n",
    "\n",
    "The aim of this project is to analyze apps stored on App Store and Google play, to determine what kind of apps that brings in the most profit. We are working as data analysts for a company\n",
    "\n",
    "At the company we work for, we only make apps that are free to download and install. Our main source of revenue comes from the in-app ads and therefore the more users we have, the bigger the profit.\n",
    "The goal is to analyze the data and help our app developers understand what kind of apps are likely to attract more users."
   ]
  },
  {
   "cell_type": "markdown",
   "metadata": {},
   "source": [
    "# Opening and exploring data\n",
    "There are over 4 million apps on App Store and Google play combined.\n",
    "To save time and money, we will use existing data sets.\n",
    "\n",
    "[Here](https://www.kaggle.com/lava18/google-play-store-apps/home) we see a data set containing approximately 10 000 android apps taken from Google play. \n",
    "[Here](https://www.kaggle.com/ramamet4/app-store-apple-data-set-10k-apps/home) we see a data set containing approximately 7000 IOS apps from App Store.\n",
    "\n",
    "We will now open up the data sets and then start exploring the data."
   ]
  },
  {
   "cell_type": "code",
   "execution_count": 1,
   "metadata": {},
   "outputs": [],
   "source": [
    "from csv import reader\n",
    "\n",
    "### Google play data set ###\n",
    "open_file=open('googleplaystore.csv')\n",
    "read_file=reader(open_file)\n",
    "android=list(read_file)\n",
    "android_header=android[0]\n",
    "android=android[1:]\n",
    "\n",
    "\n",
    "### App Store data set ###\n",
    "open_file=open('AppleStore.csv')\n",
    "read_file=reader(open_file)\n",
    "IOS=list(read_file)\n",
    "IOS_header=IOS[0]\n",
    "IOS=IOS[1:]"
   ]
  },
  {
   "cell_type": "markdown",
   "metadata": {},
   "source": [
    "To easier analyze our data sets we will first defince a function: explore_data(). This function will be used to explore the data sets more easily.\n",
    "The function can also print out he number of rows and columns of the data set we explore if we choose to do so. By default it does not provide us with this information\n",
    "\n",
    "the number of rows and columns of the data set we analyze (This argument is set to False by default)\n",
    "    "
   ]
  },
  {
   "cell_type": "code",
   "execution_count": 2,
   "metadata": {
    "collapsed": true
   },
   "outputs": [],
   "source": [
    "def explore_data(dataset, start, end, rows_and_columns=False):\n",
    "    dataset_slice = dataset[start:end]    \n",
    "    for row in dataset_slice:\n",
    "        print(row)\n",
    "        print('\\n') # adds a new (empty) line after each row\n",
    "\n",
    "    if rows_and_columns:\n",
    "        print('Number of rows:', len(dataset))\n",
    "        print('Number of columns:', len(dataset[0]))"
   ]
  },
  {
   "cell_type": "markdown",
   "metadata": {},
   "source": [
    "Now we will take a closer look at the data set for the android apps."
   ]
  },
  {
   "cell_type": "code",
   "execution_count": 3,
   "metadata": {},
   "outputs": [
    {
     "name": "stdout",
     "output_type": "stream",
     "text": [
      "['App', 'Category', 'Rating', 'Reviews', 'Size', 'Installs', 'Type', 'Price', 'Content Rating', 'Genres', 'Last Updated', 'Current Ver', 'Android Ver']\n",
      "\n",
      "\n",
      "['Photo Editor & Candy Camera & Grid & ScrapBook', 'ART_AND_DESIGN', '4.1', '159', '19M', '10,000+', 'Free', '0', 'Everyone', 'Art & Design', 'January 7, 2018', '1.0.0', '4.0.3 and up']\n",
      "\n",
      "\n",
      "['Coloring book moana', 'ART_AND_DESIGN', '3.9', '967', '14M', '500,000+', 'Free', '0', 'Everyone', 'Art & Design;Pretend Play', 'January 15, 2018', '2.0.0', '4.0.3 and up']\n",
      "\n",
      "\n",
      "['U Launcher Lite – FREE Live Cool Themes, Hide Apps', 'ART_AND_DESIGN', '4.7', '87510', '8.7M', '5,000,000+', 'Free', '0', 'Everyone', 'Art & Design', 'August 1, 2018', '1.2.4', '4.0.3 and up']\n",
      "\n",
      "\n",
      "Number of rows: 10841\n",
      "Number of columns: 13\n"
     ]
    }
   ],
   "source": [
    "print(android_header)\n",
    "print('\\n')\n",
    "explore_data(android,0,3,rows_and_columns=True) #printing the first 5 rows of the android data set using the explore function"
   ]
  },
  {
   "cell_type": "markdown",
   "metadata": {},
   "source": [
    "We can see that there are 10841 rows and 13 columns.\n",
    "Each row is one app, so there are 10841 android apps in this data set.\n",
    "Each column describes some information regarding the apps.\n",
    "The columns that could be of interest are: App, category, reviews, installs, type, price, Genres. Some other fields could be of interest but we will focus on these columns for now. \n",
    "\n",
    "Now we will take a look at the data set for the IOS apps."
   ]
  },
  {
   "cell_type": "code",
   "execution_count": 4,
   "metadata": {},
   "outputs": [
    {
     "name": "stdout",
     "output_type": "stream",
     "text": [
      "['id', 'track_name', 'size_bytes', 'currency', 'price', 'rating_count_tot', 'rating_count_ver', 'user_rating', 'user_rating_ver', 'ver', 'cont_rating', 'prime_genre', 'sup_devices.num', 'ipadSc_urls.num', 'lang.num', 'vpp_lic']\n",
      "['284882215', 'Facebook', '389879808', 'USD', '0.0', '2974676', '212', '3.5', '3.5', '95.0', '4+', 'Social Networking', '37', '1', '29', '1']\n",
      "\n",
      "\n",
      "['389801252', 'Instagram', '113954816', 'USD', '0.0', '2161558', '1289', '4.5', '4.0', '10.23', '12+', 'Photo & Video', '37', '0', '29', '1']\n",
      "\n",
      "\n",
      "['529479190', 'Clash of Clans', '116476928', 'USD', '0.0', '2130805', '579', '4.5', '4.5', '9.24.12', '9+', 'Games', '38', '5', '18', '1']\n",
      "\n",
      "\n",
      "Number of rows: 7197\n",
      "Number of columns: 16\n"
     ]
    }
   ],
   "source": [
    "print(IOS_header)\n",
    "explore_data(IOS,0,3,rows_and_columns=True) # printing the first 5 rows of the IOS data set using the explore function"
   ]
  },
  {
   "cell_type": "markdown",
   "metadata": {},
   "source": [
    "We see that there are 7197 IOS apps in the app store data set with 16 columns.\n",
    "The columns that could be of interest are: track_name, currency, price, rating_count_tot, content_rating, prime_genre.\n",
    "The columns for the IOS apps are a bit more difficult to understand and are better explained in this [documentation](https://www.kaggle.com/ramamet4/app-store-apple-data-set-10k-apps/home)"
   ]
  },
  {
   "cell_type": "markdown",
   "metadata": {},
   "source": [
    "# Deleting wrong data\n",
    "Before we can analyze the data a bit more clearly we need to clean it up a bit.\n",
    "At the company we only make apps that are in English and for free.\n",
    "Therefore, we need to clean our dataset and remove apps that are non-English and apps that are not for free.\n",
    "\n",
    "In the next step, we will need to remove or correct wrong data.\n",
    "Remove duplicate data, if there is any.\n",
    "Modify data to fit our analysis.\n",
    "\n",
    "We will begin by detecting and deleting wrong data."
   ]
  },
  {
   "cell_type": "markdown",
   "metadata": {},
   "source": [
    "According to the [discussion section](https://www.kaggle.com/lava18/google-play-store-apps/discussion) for the Google play data set, one of the [discussions](https://www.kaggle.com/lava18/google-play-store-apps/discussion/66015) describes an error for a certain row, namely row 10472. Let us take a look at this particular row, compare it to the header and a row we know to be correct for comparison."
   ]
  },
  {
   "cell_type": "code",
   "execution_count": 5,
   "metadata": {},
   "outputs": [
    {
     "name": "stdout",
     "output_type": "stream",
     "text": [
      "['App', 'Category', 'Rating', 'Reviews', 'Size', 'Installs', 'Type', 'Price', 'Content Rating', 'Genres', 'Last Updated', 'Current Ver', 'Android Ver']\n",
      "\n",
      "\n",
      "['Coloring book moana', 'ART_AND_DESIGN', '3.9', '967', '14M', '500,000+', 'Free', '0', 'Everyone', 'Art & Design;Pretend Play', 'January 15, 2018', '2.0.0', '4.0.3 and up']\n",
      "\n",
      "\n",
      "['Life Made WI-Fi Touchscreen Photo Frame', '1.9', '19', '3.0M', '1,000+', 'Free', '0', 'Everyone', '', 'February 11, 2018', '1.0.19', '4.0 and up']\n"
     ]
    }
   ],
   "source": [
    "print(android_header)\n",
    "print('\\n')\n",
    "print(android[1])\n",
    "print('\\n')\n",
    "print(android[10472])"
   ]
  },
  {
   "cell_type": "markdown",
   "metadata": {},
   "source": [
    "We can see that the rating for the app is at 19, although maximal rating is 5. There are only 12 columns when there should be 13. The columns have moved a bit.\n",
    "This row will therefore be deleted. "
   ]
  },
  {
   "cell_type": "code",
   "execution_count": 6,
   "metadata": {},
   "outputs": [
    {
     "name": "stdout",
     "output_type": "stream",
     "text": [
      "10841\n",
      "10840\n"
     ]
    }
   ],
   "source": [
    "print(len(android))\n",
    "del android[10472]\n",
    "print(len(android))"
   ]
  },
  {
   "cell_type": "markdown",
   "metadata": {},
   "source": [
    "We can see  that the number of rows has decreased by 1 and we therefore know that the deletion took place. Next we will see if there are any duplicate apps, apps that appear more than once in the data set."
   ]
  },
  {
   "cell_type": "markdown",
   "metadata": {},
   "source": [
    "# Removing duplicate entries - Android apps\n",
    "If we look at the dataset for android apps, or take a look into the [discussion section](https://www.kaggle.com/lava18/google-play-store-apps/discussion), we see that some apps appear more than once. We can try to look into some of the most popular apps, for instance Instagram and Facebook."
   ]
  },
  {
   "cell_type": "code",
   "execution_count": 7,
   "metadata": {},
   "outputs": [
    {
     "name": "stdout",
     "output_type": "stream",
     "text": [
      "['Facebook', 'SOCIAL', '4.1', '78158306', 'Varies with device', '1,000,000,000+', 'Free', '0', 'Teen', 'Social', 'August 3, 2018', 'Varies with device', 'Varies with device']\n",
      "['Instagram', 'SOCIAL', '4.5', '66577313', 'Varies with device', '1,000,000,000+', 'Free', '0', 'Teen', 'Social', 'July 31, 2018', 'Varies with device', 'Varies with device']\n",
      "['Instagram', 'SOCIAL', '4.5', '66577446', 'Varies with device', '1,000,000,000+', 'Free', '0', 'Teen', 'Social', 'July 31, 2018', 'Varies with device', 'Varies with device']\n",
      "['Instagram', 'SOCIAL', '4.5', '66577313', 'Varies with device', '1,000,000,000+', 'Free', '0', 'Teen', 'Social', 'July 31, 2018', 'Varies with device', 'Varies with device']\n",
      "['Instagram', 'SOCIAL', '4.5', '66509917', 'Varies with device', '1,000,000,000+', 'Free', '0', 'Teen', 'Social', 'July 31, 2018', 'Varies with device', 'Varies with device']\n",
      "['Facebook', 'SOCIAL', '4.1', '78128208', 'Varies with device', '1,000,000,000+', 'Free', '0', 'Teen', 'Social', 'August 3, 2018', 'Varies with device', 'Varies with device']\n"
     ]
    }
   ],
   "source": [
    "for app in android:\n",
    "    name=app[0]\n",
    "    if name == \"Instagram\" or name==\"Facebook\":\n",
    "        print(app)"
   ]
  },
  {
   "cell_type": "markdown",
   "metadata": {},
   "source": [
    "We see that Facebook appears 2 times, while Instagram appears 4 times. This should raise a suspicion that there might be more duplicate apps in our dataset and we should take a closer look at all of the apps and see if there are more duplicates that appear."
   ]
  },
  {
   "cell_type": "code",
   "execution_count": 8,
   "metadata": {},
   "outputs": [
    {
     "name": "stdout",
     "output_type": "stream",
     "text": [
      "Out of 10839 android apps, 1181 are duplicates\n"
     ]
    }
   ],
   "source": [
    "android_duplicates=[]\n",
    "android_unique=[]\n",
    "for app in android:\n",
    "    name=app[0]\n",
    "    if name in android_unique:\n",
    "        android_duplicates.append(name)\n",
    "    else:\n",
    "        android_unique.append(name) \n",
    "        \n",
    "a=len(android[1:])              #Number of android apps\n",
    "b=len(android_duplicates)       #Number of duplicates android apps\n",
    "print('Out of {} android apps, {} are duplicates'.format(a,b))    "
   ]
  },
  {
   "cell_type": "markdown",
   "metadata": {},
   "source": [
    "We find that there are 1181 duplicates in our dataset for the android apps.\n",
    "Here are some of the apps that appear more than once:"
   ]
  },
  {
   "cell_type": "code",
   "execution_count": 9,
   "metadata": {},
   "outputs": [
    {
     "name": "stdout",
     "output_type": "stream",
     "text": [
      "['Quick PDF Scanner + OCR FREE', 'Box', 'Google My Business', 'ZOOM Cloud Meetings', 'join.me - Simple Meetings', 'Box', 'Zenefits', 'Google Ads', 'Google My Business', 'Slack']\n"
     ]
    }
   ],
   "source": [
    "print(android_duplicates[:10])"
   ]
  },
  {
   "cell_type": "markdown",
   "metadata": {},
   "source": [
    "We have to delete duplicates that appear, the question is what app data we want to keep in our dataset. If we look into into the printed rows for the Instagram and facebook app, we see something interesting, namely that the only variable that seems to differ, is the amount of reviews that the apps recieved. The reason that this value differs in the dataset, is probably because the data was collected at different. Keeping the apps with the most revews seems like the best choice, since this data should be the most recent."
   ]
  },
  {
   "cell_type": "code",
   "execution_count": 10,
   "metadata": {},
   "outputs": [
    {
     "name": "stdout",
     "output_type": "stream",
     "text": [
      "Expected number of apps after removing duplicates is:  9659\n"
     ]
    }
   ],
   "source": [
    "print('Expected number of apps after removing duplicates is: ',len(android)-len(android_duplicates))"
   ]
  },
  {
   "cell_type": "markdown",
   "metadata": {},
   "source": [
    "In order to remove duplicates, we will create a dictionary where the keys will be the unique app names and the values will be the highest number of reviews for each app. With this information we will be able to create a new dataset without duplicates."
   ]
  },
  {
   "cell_type": "code",
   "execution_count": 11,
   "metadata": {},
   "outputs": [
    {
     "name": "stdout",
     "output_type": "stream",
     "text": [
      "The number of android apps that are unique is:  9659\n"
     ]
    }
   ],
   "source": [
    "reviews_max={}                    # Creating empty dictionary\n",
    "for app in android:\n",
    "    name=app[0]\n",
    "    n_reviews=float(app[3])\n",
    "    if name in reviews_max and n_reviews > reviews_max[name]:\n",
    "            reviews_max[name]=n_reviews\n",
    "    elif name not in reviews_max:\n",
    "        reviews_max[name]=n_reviews\n",
    "print(\"The number of android apps that are unique is: \",len(reviews_max))  "
   ]
  },
  {
   "cell_type": "markdown",
   "metadata": {},
   "source": [
    "The number of unique android apps is 9659 as expected.\n",
    "We have successfully created a dictionary that holds all unique apps and their highest reviews count. Now we will remove the duplicated rows and keep the non-unique apps that have the highest number of reviews."
   ]
  },
  {
   "cell_type": "markdown",
   "metadata": {},
   "source": [
    "To get this clean data set, we : \n",
    "- Create the empty list **android_clean** \n",
    "- create the empty list **already_added** \n",
    "\n",
    "we iterate through the whole data set and for each iteration we:\n",
    "- Assign the app name to the variable **name**\n",
    "- Assign the number of reviews to the variable **n_reviews**\n",
    "- We add the app row to the clean data set if:\n",
    "    - the number of reviews in **n_revies** is the same as the maximim reviews for that app \n",
    "    - the app name has not already been added to the list **android_clean**\n",
    "\n",
    "The reason that we also check to see if the app has already been added is to make sure that we do not end up adding one app twice, which could happen if the number of reviews are the same for apps that share the same name. This way we make sure that we do not end up with duplicates again.\n",
    "\n"
   ]
  },
  {
   "cell_type": "code",
   "execution_count": 12,
   "metadata": {},
   "outputs": [],
   "source": [
    "android_clean=[]     # List that will store our clean data set\n",
    "already_added=[]     # List that will store app names of the ones we added\n",
    "for app in android:\n",
    "    name=app[0]\n",
    "    n_reviews=float(app[3])\n",
    "    if n_reviews == reviews_max[name] and name not in already_added:\n",
    "        android_clean.append(app)\n",
    "        already_added.append(name)"
   ]
  },
  {
   "cell_type": "markdown",
   "metadata": {},
   "source": [
    "The data set has been cleaned from duplicates, we will take a look to see if we got the expected number of rows."
   ]
  },
  {
   "cell_type": "code",
   "execution_count": 13,
   "metadata": {},
   "outputs": [
    {
     "name": "stdout",
     "output_type": "stream",
     "text": [
      "['Photo Editor & Candy Camera & Grid & ScrapBook', 'ART_AND_DESIGN', '4.1', '159', '19M', '10,000+', 'Free', '0', 'Everyone', 'Art & Design', 'January 7, 2018', '1.0.0', '4.0.3 and up']\n",
      "\n",
      "\n",
      "['U Launcher Lite – FREE Live Cool Themes, Hide Apps', 'ART_AND_DESIGN', '4.7', '87510', '8.7M', '5,000,000+', 'Free', '0', 'Everyone', 'Art & Design', 'August 1, 2018', '1.2.4', '4.0.3 and up']\n",
      "\n",
      "\n",
      "['Sketch - Draw & Paint', 'ART_AND_DESIGN', '4.5', '215644', '25M', '50,000,000+', 'Free', '0', 'Teen', 'Art & Design', 'June 8, 2018', 'Varies with device', '4.2 and up']\n",
      "\n",
      "\n",
      "Number of rows: 9659\n",
      "Number of columns: 13\n"
     ]
    }
   ],
   "source": [
    "explore_data(android_clean,0,3,True)"
   ]
  },
  {
   "cell_type": "markdown",
   "metadata": {},
   "source": [
    "We can see that the number of rows for the clean data set is 9659 as expected.\n",
    "Now we will do the same for the IOS apps."
   ]
  },
  {
   "cell_type": "markdown",
   "metadata": {
    "collapsed": true
   },
   "source": [
    "# Finding non-English apps\n",
    "Since we are developers who target at making free apps for English users, we will have to remove the apps not intended for an English-speaking audience.\n",
    "To find apps that are not directed toward English-speaking users, we will look at the app names containing symbols/characters that are not commonly used in Enlgish text.\n",
    "To do this, we can look up the ASCII(American Standard Code for Information Interchange) for different characters. We know that the characters commonly used in English have an ASCII code in the range of 0 to 127. \n",
    "Luckily for us there is a function (ord) that takes a string as parameter, and gives us the ASCII code for that character.\n",
    "All we have to do is compare the chracter's ASCII code to determine whether an app is targeted for an English-speaking audience or not.\n",
    "\n",
    "To do this we create the function is_english(app_name), where:\n",
    "- The parameter **app_name** is a string coresponding to the name of the app\n",
    "- we iterate for each character in the string and check:\n",
    "    - The ASCII for the iterated characters\n",
    "    - If any of the characters ASCII is above 127 we return **False**, which indicates that the app is probably intended for a non-English speaking audience\n",
    "    - If all the characters have an ASCII of below 127, we return **True**, which indicates the app is probably intended for an English-speaking audience"
   ]
  },
  {
   "cell_type": "code",
   "execution_count": 14,
   "metadata": {
    "collapsed": true
   },
   "outputs": [],
   "source": [
    "def is_english(app_name):\n",
    "    for character in app_name:\n",
    "        if ord(character) > 127:\n",
    "            return False\n",
    "    return True"
   ]
  },
  {
   "cell_type": "markdown",
   "metadata": {},
   "source": [
    "To test our function we will create a list with  different app names and see whether the function works correctly or not:"
   ]
  },
  {
   "cell_type": "code",
   "execution_count": 15,
   "metadata": {},
   "outputs": [
    {
     "name": "stdout",
     "output_type": "stream",
     "text": [
      "True\n",
      "False\n",
      "False\n",
      "False\n"
     ]
    }
   ],
   "source": [
    "some_android_apps=['Instagram',\n",
    "        '爱奇艺PPS -《欢乐颂2》电视剧热播', \n",
    "        'Docs To Go™ Free Office Suite',\n",
    "        'Instachat 😜']\n",
    "for app_name in some_android_apps:\n",
    "    print(is_english(app_name))"
   ]
  },
  {
   "cell_type": "markdown",
   "metadata": {},
   "source": [
    "After looking at the results we can conclude that our function does not work as intented.\n",
    "we can clearly see that 3 of the 4 app names were written in English, but only 1 was recognized.\n",
    "This has to do with the fact that some special characters were also introduced in the app names, such as ( ™ ) and the emoji ( 😜 ), and these special characters have ASCII that are out of range. "
   ]
  },
  {
   "cell_type": "code",
   "execution_count": 16,
   "metadata": {},
   "outputs": [
    {
     "name": "stdout",
     "output_type": "stream",
     "text": [
      "8482 128540\n"
     ]
    }
   ],
   "source": [
    "print(ord(\"™\"),ord(\"😜\"))"
   ]
  },
  {
   "cell_type": "markdown",
   "metadata": {},
   "source": [
    "If we use the function we created to sort out apps we believe to be intented for a non_English speaking audience, we will lose out on a lot of data. To make the function a bit more efficient, we will change it to still count an app as intended for English-users, as long as there are less than 4 special characters in the app name."
   ]
  },
  {
   "cell_type": "code",
   "execution_count": 17,
   "metadata": {
    "collapsed": true
   },
   "outputs": [],
   "source": [
    "def is_english(app_name):\n",
    "    count=0\n",
    "    for character in app_name:\n",
    "        if ord(character) > 127:\n",
    "            count+=1\n",
    "            if count>3:\n",
    "                return False\n",
    "    return True"
   ]
  },
  {
   "cell_type": "markdown",
   "metadata": {},
   "source": [
    "We will use the function for the list **some_android_apps** again and look at the results."
   ]
  },
  {
   "cell_type": "code",
   "execution_count": 18,
   "metadata": {},
   "outputs": [
    {
     "name": "stdout",
     "output_type": "stream",
     "text": [
      "True\n",
      "False\n",
      "True\n",
      "True\n"
     ]
    }
   ],
   "source": [
    "for app_name in some_android_apps:\n",
    "    print(is_english(app_name))"
   ]
  },
  {
   "cell_type": "markdown",
   "metadata": {},
   "source": [
    "This time the function returned 3 out of 4 apps, which was the expected result.\n",
    "**NOTE: This function is still not optimal since there could potentially be apps that have more than 3 special characters, however, it is more accurate than the previous function in sorting our data set.**\n"
   ]
  },
  {
   "cell_type": "markdown",
   "metadata": {},
   "source": [
    "Now we will use our function to remove non-English apps from our 2 data sets(Android apps and IOS apps."
   ]
  },
  {
   "cell_type": "code",
   "execution_count": 19,
   "metadata": {},
   "outputs": [],
   "source": [
    "android_english=[]      # Will contain a list of English Android apps\n",
    "for app in android_clean:\n",
    "    if is_english(app[0])==True:\n",
    "        android_english.append(app)\n",
    "        \n",
    "IOS_english=[]      # Will contain a list of English IOS apps\n",
    "for app in IOS:\n",
    "    if is_english(app[1])==True:\n",
    "        IOS_english.append(app)"
   ]
  },
  {
   "cell_type": "code",
   "execution_count": 20,
   "metadata": {},
   "outputs": [
    {
     "name": "stdout",
     "output_type": "stream",
     "text": [
      "ANDROID APPS\n",
      "Number of rows: 9659\n",
      "Number of columns: 13\n",
      "\n",
      "\n",
      "Number of rows: 9614\n",
      "Number of columns: 13\n",
      "\n",
      "\n",
      "IOS APPS\n",
      "Number of rows: 7197\n",
      "Number of columns: 16\n",
      "\n",
      "\n",
      "Number of rows: 6183\n",
      "Number of columns: 16\n"
     ]
    }
   ],
   "source": [
    "print('ANDROID APPS')\n",
    "explore_data(android_clean,0,0,True)     #Android apps before removing non-English apps\n",
    "print('\\n')\n",
    "explore_data(android_english,0,0,True)   #Android apps after removing non-English apps\n",
    "print('\\n')\n",
    "print('IOS APPS')\n",
    "explore_data(IOS,0,0,True)              #Android apps before removing non-English apps\n",
    "print('\\n')\n",
    "explore_data(IOS_english,0,0,True)      #Android apps after removing non-English apps"
   ]
  },
  {
   "cell_type": "markdown",
   "metadata": {},
   "source": [
    "The difference in apps before and after removing non-English apps:\n",
    "- Android 9659 => 9614 , reduction in 45 apps\n",
    "- IOS     7197 => 6183 , reduction in 1014 apps"
   ]
  },
  {
   "cell_type": "markdown",
   "metadata": {},
   "source": [
    "# Removing non-free apps\n",
    "As previously mentioned this company only focuses on building apps that are free to download because the main source of revenue comes from the in-app ads. The data set right now consists of free and non-free apps, and we want to split the data sets. To do this we will iterate through all of the apps and for each iteration we will:\n",
    "- check the price (Index 7) of each app:\n",
    "    - If the price is 0 , add that app to a list **free_android**\n",
    "    - If the price is not 0 , add that app to a list **nonfree_android**"
   ]
  },
  {
   "cell_type": "code",
   "execution_count": 21,
   "metadata": {},
   "outputs": [
    {
     "name": "stdout",
     "output_type": "stream",
     "text": [
      "Free android apps: 8864, Nonfree android apps: 750, total: 9614\n"
     ]
    }
   ],
   "source": [
    "free_android=[]\n",
    "nonfree_android=[]\n",
    "for app in android_english:\n",
    "    name=app[0]\n",
    "    price=app[7]\n",
    "    if price=='0':\n",
    "        free_android.append(app)\n",
    "    else:\n",
    "        nonfree_android.append(app)\n",
    "print(\"Free android apps: {}, Nonfree android apps: {}, total: {}\".format(len(free_android),len(nonfree_android),len(android_english)))"
   ]
  },
  {
   "cell_type": "markdown",
   "metadata": {},
   "source": [
    "We see that the number of android apps are divded into :\n",
    "- 8864 free apps \n",
    "- 750 nonfree apps\n",
    "- total 9614 apps"
   ]
  },
  {
   "cell_type": "markdown",
   "metadata": {},
   "source": [
    "Now we will do the same for the IOS apps except here the name is at index 1, the price is at index 4 and the price is written as a string with decimals."
   ]
  },
  {
   "cell_type": "code",
   "execution_count": 22,
   "metadata": {},
   "outputs": [
    {
     "name": "stdout",
     "output_type": "stream",
     "text": [
      "Free android apps: 3222, Nonfree android apps: 2961, total: 6183\n"
     ]
    }
   ],
   "source": [
    "free_IOS=[]\n",
    "nonfree_IOS=[]\n",
    "for app in IOS_english:\n",
    "    name=app[1]\n",
    "    price=app[4]\n",
    "    if price=='0.0':\n",
    "        free_IOS.append(app)\n",
    "    else:\n",
    "        nonfree_IOS.append(app)\n",
    "print(\"Free android apps: {}, Nonfree android apps: {}, total: {}\".format(len(free_IOS),len(nonfree_IOS),len(IOS_english)))"
   ]
  },
  {
   "cell_type": "markdown",
   "metadata": {},
   "source": [
    "We see that the number of android apps are divded into :\n",
    "- 3222 free apps \n",
    "- 2961 nonfree apps\n",
    "- total 6183 apps"
   ]
  },
  {
   "cell_type": "markdown",
   "metadata": {},
   "source": [
    "# Creating frequency tables\n",
    "We have reached the crucial part of this project, but before we begin analyzing the data it is important to know what to look for. In the introductio we epxlained that we want make free apps, in English, and that the main profit for the company comes from in-app ads. The number of ads that are seen is correlating with the number of people that use our apps, our aim is therefore to determine the kind of apps that are more likely to attract users in order to increase profits for the company.\n",
    "\n",
    "The overall strategy for an app idea usually consists of three steps.\n",
    "\n",
    "To build an app and to put it out on google play.\n",
    "if the app gets a good response from the intended audience, the app gets developed further.\n",
    "If the app turns out to be profitable after half a year, an IOS version of the app is built and released to the App store.\n",
    "An app can be considered successfull if it attracts many users on Google play and on App Store. We will begin by analyzing the most common genres for each market. This will be done with a **Frequency table** for a few columns in each data set. First we will examine the headers for each data set."
   ]
  },
  {
   "cell_type": "code",
   "execution_count": 23,
   "metadata": {},
   "outputs": [
    {
     "name": "stdout",
     "output_type": "stream",
     "text": [
      "['App', 'Category', 'Rating', 'Reviews', 'Size', 'Installs', 'Type', 'Price', 'Content Rating', 'Genres', 'Last Updated', 'Current Ver', 'Android Ver'] \n",
      "\n",
      "['id', 'track_name', 'size_bytes', 'currency', 'price', 'rating_count_tot', 'rating_count_ver', 'user_rating', 'user_rating_ver', 'ver', 'cont_rating', 'prime_genre', 'sup_devices.num', 'ipadSc_urls.num', 'lang.num', 'vpp_lic']\n"
     ]
    }
   ],
   "source": [
    "print(android_header,'\\n')\n",
    "print(IOS_header)"
   ]
  },
  {
   "cell_type": "markdown",
   "metadata": {},
   "source": [
    "The interesting columns in the data set for android apps:\n",
    "Category: index 1 , Genres: index 9\n",
    "\n",
    "The interesting columns in the data set for IOS apps:\n",
    "prime_genre: 11\n",
    "\n",
    "To analyze the data sets further we will first create two functions:\n",
    "- The first function will generate frequency table and shows the percentage, we name the function **freq_table()**\n",
    "- The second function will sort the percentages in a descending order, we name it **display_table()** \n",
    "\n",
    "We will begin with the **freq_table()** function which will:\n",
    "- Take 2 inputs, **dataset** which is a list of lists, and **index** which is an integer\n",
    "- The function will then iterate over the data set and for each app it will:\n",
    "    - Look into the column with index **index**, see if this column exists in the dictionary **frequencies**:\n",
    "        - If it does not exist, it will create a key with the name of the column and give it a value = 1\n",
    "        - If it does exist, it will increment the value of the name of the column by 1\n",
    "        \n",
    "After the table has been created, the function will divide each value with the number of apps to get a percentage value."
   ]
  },
  {
   "cell_type": "code",
   "execution_count": 24,
   "metadata": {
    "collapsed": true
   },
   "outputs": [],
   "source": [
    "def freq_table(dataset,index):\n",
    "    frequencies={}\n",
    "    frequency_table={}\n",
    "    length=len(dataset)\n",
    "    for app in dataset:\n",
    "        key=app[index]\n",
    "        if key not in frequencies:\n",
    "            frequencies[key] = 1\n",
    "        else:\n",
    "            frequencies[key] += 1\n",
    "    \n",
    "    for key in frequencies:\n",
    "        percentage= (frequencies[key]/length)*100\n",
    "        frequency_table[key] = round(percentage,3)\n",
    "    return(frequency_table)"
   ]
  },
  {
   "cell_type": "markdown",
   "metadata": {},
   "source": [
    "The function is created and will be tested for the android set, a frequency table will created for the \"category\" column indexed 1."
   ]
  },
  {
   "cell_type": "code",
   "execution_count": 25,
   "metadata": {},
   "outputs": [
    {
     "data": {
      "text/plain": [
       "{'ART_AND_DESIGN': 0.643,\n",
       " 'AUTO_AND_VEHICLES': 0.925,\n",
       " 'BEAUTY': 0.598,\n",
       " 'BOOKS_AND_REFERENCE': 2.144,\n",
       " 'BUSINESS': 4.592,\n",
       " 'COMICS': 0.62,\n",
       " 'COMMUNICATION': 3.238,\n",
       " 'DATING': 1.861,\n",
       " 'EDUCATION': 1.162,\n",
       " 'ENTERTAINMENT': 0.959,\n",
       " 'EVENTS': 0.711,\n",
       " 'FAMILY': 18.908,\n",
       " 'FINANCE': 3.7,\n",
       " 'FOOD_AND_DRINK': 1.241,\n",
       " 'GAME': 9.725,\n",
       " 'HEALTH_AND_FITNESS': 3.08,\n",
       " 'HOUSE_AND_HOME': 0.824,\n",
       " 'LIBRARIES_AND_DEMO': 0.936,\n",
       " 'LIFESTYLE': 3.903,\n",
       " 'MAPS_AND_NAVIGATION': 1.399,\n",
       " 'MEDICAL': 3.531,\n",
       " 'NEWS_AND_MAGAZINES': 2.798,\n",
       " 'PARENTING': 0.654,\n",
       " 'PERSONALIZATION': 3.317,\n",
       " 'PHOTOGRAPHY': 2.944,\n",
       " 'PRODUCTIVITY': 3.892,\n",
       " 'SHOPPING': 2.245,\n",
       " 'SOCIAL': 2.662,\n",
       " 'SPORTS': 3.396,\n",
       " 'TOOLS': 8.461,\n",
       " 'TRAVEL_AND_LOCAL': 2.335,\n",
       " 'VIDEO_PLAYERS': 1.794,\n",
       " 'WEATHER': 0.801}"
      ]
     },
     "execution_count": 25,
     "metadata": {},
     "output_type": "execute_result"
    }
   ],
   "source": [
    "freq_table(free_android,1)"
   ]
  },
  {
   "cell_type": "markdown",
   "metadata": {},
   "source": [
    "The function seems to be working, now we just need to display the frequency table in a more fashioned manner by sorting it. The sorting function named **display_table**, we:\n",
    "- Call the **freq_table** function with the parameters **dataset** and **index **, which in return creates a frequency table for us as explained above, and stores the frequency table in the variable **table**.\n",
    "- create an empty list named **table_display**\n",
    "- Iterate over the frequency dictionary and for each iteration we:\n",
    "    - Store the **key** and **Value** as a tuple in the variable **key_val_as_tuple**. The value is stored first in this case so that we can easily sort it later on.\n",
    "    - add the created tuple to our list **table_display**\n",
    "    \n",
    "- Sort the list of tuples **table_display** with the help of the **sorted()** function and put the sorted list of tuples in the variable **table_sorted**"
   ]
  },
  {
   "cell_type": "code",
   "execution_count": 26,
   "metadata": {
    "collapsed": true
   },
   "outputs": [],
   "source": [
    "def display_table(dataset, index):\n",
    "    table = freq_table(dataset, index)\n",
    "    table_display = []\n",
    "    for key in table:\n",
    "        key_val_as_tuple = (table[key], key)\n",
    "        table_display.append(key_val_as_tuple)\n",
    "\n",
    "    table_sorted = sorted(table_display, reverse = True)\n",
    "    for entry in table_sorted:\n",
    "        print(entry[1], ':', entry[0])"
   ]
  },
  {
   "cell_type": "markdown",
   "metadata": {},
   "source": [
    "Now that we have our function created we will begin using it to display frequency tables with the order **Category**,** Genres** and **prime_genre**"
   ]
  },
  {
   "cell_type": "code",
   "execution_count": 27,
   "metadata": {},
   "outputs": [
    {
     "name": "stdout",
     "output_type": "stream",
     "text": [
      "Frequency table for prime_genre \n",
      "\n",
      "Games : 58.163\n",
      "Entertainment : 7.883\n",
      "Photo & Video : 4.966\n",
      "Education : 3.662\n",
      "Social Networking : 3.29\n",
      "Shopping : 2.607\n",
      "Utilities : 2.514\n",
      "Sports : 2.142\n",
      "Music : 2.048\n",
      "Health & Fitness : 2.017\n",
      "Productivity : 1.738\n",
      "Lifestyle : 1.583\n",
      "News : 1.335\n",
      "Travel : 1.241\n",
      "Finance : 1.117\n",
      "Weather : 0.869\n",
      "Food & Drink : 0.807\n",
      "Reference : 0.559\n",
      "Business : 0.528\n",
      "Book : 0.435\n",
      "Navigation : 0.186\n",
      "Medical : 0.186\n",
      "Catalogs : 0.124\n"
     ]
    }
   ],
   "source": [
    "print('Frequency table for prime_genre \\n')\n",
    "display_table(free_IOS,11)"
   ]
  },
  {
   "cell_type": "markdown",
   "metadata": {},
   "source": [
    "## Analyzing data: **prime_genre** column for IOS apps.\n",
    "- The most common genre is **Games: 58.16 %** followed by **Entertainment: 7.88 % **\n",
    "- Apps created for entertainment purposes (Games, Entertainment, Photo & Video, Social Networking, sports, Music): **78.5 %** and apps created for practical purposes ( Education, shopping, utilities, productivity, lifestyle): **12.1 %** . This tells us that most free, english apps are designed for entertainment purposes.\n",
    "- Given that there are many more entertainment apps than the rest, one might think that these also are the most popular ones. This is something that could be looked into further.\n",
    "--------------------------------------------------------------------------------"
   ]
  },
  {
   "cell_type": "code",
   "execution_count": 28,
   "metadata": {},
   "outputs": [
    {
     "name": "stdout",
     "output_type": "stream",
     "text": [
      "Frequency table for Category \n",
      "\n",
      "FAMILY : 18.908\n",
      "GAME : 9.725\n",
      "TOOLS : 8.461\n",
      "BUSINESS : 4.592\n",
      "LIFESTYLE : 3.903\n",
      "PRODUCTIVITY : 3.892\n",
      "FINANCE : 3.7\n",
      "MEDICAL : 3.531\n",
      "SPORTS : 3.396\n",
      "PERSONALIZATION : 3.317\n",
      "COMMUNICATION : 3.238\n",
      "HEALTH_AND_FITNESS : 3.08\n",
      "PHOTOGRAPHY : 2.944\n",
      "NEWS_AND_MAGAZINES : 2.798\n",
      "SOCIAL : 2.662\n",
      "TRAVEL_AND_LOCAL : 2.335\n",
      "SHOPPING : 2.245\n",
      "BOOKS_AND_REFERENCE : 2.144\n",
      "DATING : 1.861\n",
      "VIDEO_PLAYERS : 1.794\n",
      "MAPS_AND_NAVIGATION : 1.399\n",
      "FOOD_AND_DRINK : 1.241\n",
      "EDUCATION : 1.162\n",
      "ENTERTAINMENT : 0.959\n",
      "LIBRARIES_AND_DEMO : 0.936\n",
      "AUTO_AND_VEHICLES : 0.925\n",
      "HOUSE_AND_HOME : 0.824\n",
      "WEATHER : 0.801\n",
      "EVENTS : 0.711\n",
      "PARENTING : 0.654\n",
      "ART_AND_DESIGN : 0.643\n",
      "COMICS : 0.62\n",
      "BEAUTY : 0.598\n"
     ]
    }
   ],
   "source": [
    "print('Frequency table for Category \\n')\n",
    "display_table(free_android,1)"
   ]
  },
  {
   "cell_type": "code",
   "execution_count": 29,
   "metadata": {
    "scrolled": false
   },
   "outputs": [
    {
     "name": "stdout",
     "output_type": "stream",
     "text": [
      "Frequency table for Genres \n",
      "\n",
      "Tools : 8.45\n",
      "Entertainment : 6.069\n",
      "Education : 5.347\n",
      "Business : 4.592\n",
      "Productivity : 3.892\n",
      "Lifestyle : 3.892\n",
      "Finance : 3.7\n",
      "Medical : 3.531\n",
      "Sports : 3.463\n",
      "Personalization : 3.317\n",
      "Communication : 3.238\n",
      "Action : 3.102\n",
      "Health & Fitness : 3.08\n",
      "Photography : 2.944\n",
      "News & Magazines : 2.798\n",
      "Social : 2.662\n",
      "Travel & Local : 2.324\n",
      "Shopping : 2.245\n",
      "Books & Reference : 2.144\n",
      "Simulation : 2.042\n",
      "Dating : 1.861\n",
      "Arcade : 1.85\n",
      "Video Players & Editors : 1.771\n",
      "Casual : 1.76\n",
      "Maps & Navigation : 1.399\n",
      "Food & Drink : 1.241\n",
      "Puzzle : 1.128\n",
      "Racing : 0.993\n",
      "Role Playing : 0.936\n",
      "Libraries & Demo : 0.936\n",
      "Auto & Vehicles : 0.925\n",
      "Strategy : 0.914\n",
      "House & Home : 0.824\n",
      "Weather : 0.801\n",
      "Events : 0.711\n",
      "Adventure : 0.677\n",
      "Comics : 0.609\n",
      "Beauty : 0.598\n",
      "Art & Design : 0.598\n",
      "Parenting : 0.496\n",
      "Card : 0.451\n",
      "Casino : 0.429\n",
      "Trivia : 0.417\n",
      "Educational;Education : 0.395\n",
      "Board : 0.384\n",
      "Educational : 0.372\n",
      "Education;Education : 0.338\n",
      "Word : 0.259\n",
      "Casual;Pretend Play : 0.237\n",
      "Music : 0.203\n",
      "Racing;Action & Adventure : 0.169\n",
      "Puzzle;Brain Games : 0.169\n",
      "Entertainment;Music & Video : 0.169\n",
      "Casual;Brain Games : 0.135\n",
      "Casual;Action & Adventure : 0.135\n",
      "Arcade;Action & Adventure : 0.124\n",
      "Action;Action & Adventure : 0.102\n",
      "Educational;Pretend Play : 0.09\n",
      "Simulation;Action & Adventure : 0.079\n",
      "Parenting;Education : 0.079\n",
      "Entertainment;Brain Games : 0.079\n",
      "Board;Brain Games : 0.079\n",
      "Parenting;Music & Video : 0.068\n",
      "Educational;Brain Games : 0.068\n",
      "Casual;Creativity : 0.068\n",
      "Art & Design;Creativity : 0.068\n",
      "Education;Pretend Play : 0.056\n",
      "Role Playing;Pretend Play : 0.045\n",
      "Education;Creativity : 0.045\n",
      "Role Playing;Action & Adventure : 0.034\n",
      "Puzzle;Action & Adventure : 0.034\n",
      "Entertainment;Creativity : 0.034\n",
      "Entertainment;Action & Adventure : 0.034\n",
      "Educational;Creativity : 0.034\n",
      "Educational;Action & Adventure : 0.034\n",
      "Education;Music & Video : 0.034\n",
      "Education;Brain Games : 0.034\n",
      "Education;Action & Adventure : 0.034\n",
      "Adventure;Action & Adventure : 0.034\n",
      "Video Players & Editors;Music & Video : 0.023\n",
      "Sports;Action & Adventure : 0.023\n",
      "Simulation;Pretend Play : 0.023\n",
      "Puzzle;Creativity : 0.023\n",
      "Music;Music & Video : 0.023\n",
      "Entertainment;Pretend Play : 0.023\n",
      "Casual;Education : 0.023\n",
      "Board;Action & Adventure : 0.023\n",
      "Video Players & Editors;Creativity : 0.011\n",
      "Trivia;Education : 0.011\n",
      "Travel & Local;Action & Adventure : 0.011\n",
      "Tools;Education : 0.011\n",
      "Strategy;Education : 0.011\n",
      "Strategy;Creativity : 0.011\n",
      "Strategy;Action & Adventure : 0.011\n",
      "Simulation;Education : 0.011\n",
      "Role Playing;Brain Games : 0.011\n",
      "Racing;Pretend Play : 0.011\n",
      "Puzzle;Education : 0.011\n",
      "Parenting;Brain Games : 0.011\n",
      "Music & Audio;Music & Video : 0.011\n",
      "Lifestyle;Pretend Play : 0.011\n",
      "Lifestyle;Education : 0.011\n",
      "Health & Fitness;Education : 0.011\n",
      "Health & Fitness;Action & Adventure : 0.011\n",
      "Entertainment;Education : 0.011\n",
      "Communication;Creativity : 0.011\n",
      "Comics;Creativity : 0.011\n",
      "Casual;Music & Video : 0.011\n",
      "Card;Action & Adventure : 0.011\n",
      "Books & Reference;Education : 0.011\n",
      "Art & Design;Pretend Play : 0.011\n",
      "Art & Design;Action & Adventure : 0.011\n",
      "Arcade;Pretend Play : 0.011\n",
      "Adventure;Education : 0.011\n"
     ]
    }
   ],
   "source": [
    "print('Frequency table for Genres \\n')\n",
    "display_table(free_android,9)"
   ]
  },
  {
   "cell_type": "markdown",
   "metadata": {},
   "source": [
    "## Analyzing data: Category column for android apps.\n",
    "- The dataset from category and genre are almost identical.\n",
    "- These data sets are not as stocked with games as it was with the IOS data set.\n",
    "- The IOS data set was above 75 % enterteinment( where more than 50% was from games), while the android data set for enterteinment (Games, Entertainment, Photo & Video, Social Networking, sports, Music) accounts for around 21 % (10 % of these 21 % are games).  \n",
    "- The apps for practical purposes ( Education, shopping, utilities, productivity, lifestyle) account for approximately 19.6 %\n",
    "    - The practical apps are more common with android apps and less so with IOS apps\n",
    "    - Games apps are more common for IOS apps, which could mean that games are the most successfull apps. \n",
    "    \n",
    "The genres themselves do not reveal the most popular apps, since we still have not looked into the number of users for these genres. It could simply be that some apps are easier to vary/make and therefore we have more of these. \n",
    "\n",
    "Below we look into the family category a bit more and create a frequence table for the genres for family apps."
   ]
  },
  {
   "cell_type": "code",
   "execution_count": 30,
   "metadata": {},
   "outputs": [
    {
     "name": "stdout",
     "output_type": "stream",
     "text": [
      "{'Puzzle;Brain Games': 15, 'Entertainment;Action & Adventure': 3, 'Role Playing;Pretend Play': 4, 'Action;Action & Adventure': 8, 'Educational;Pretend Play': 8, 'Entertainment;Education': 1, 'Trivia;Education': 1, 'Card;Action & Adventure': 1, 'Education;Pretend Play': 4, 'Strategy;Education': 1, 'Video Players & Editors;Music & Video': 1, 'Puzzle': 78, 'Role Playing;Action & Adventure': 3, 'Educational': 33, 'Art & Design;Action & Adventure': 1, 'Educational;Creativity': 3, 'Puzzle;Action & Adventure': 3, 'Education;Education': 24, 'Entertainment;Pretend Play': 2, 'Entertainment;Music & Video': 12, 'Simulation;Pretend Play': 2, 'Casual;Pretend Play': 21, 'Role Playing;Brain Games': 1, 'Strategy;Creativity': 1, 'Casual;Action & Adventure': 12, 'Casual;Music & Video': 1, 'Role Playing': 72, 'Board;Action & Adventure': 2, 'Arcade;Pretend Play': 1, 'Health & Fitness;Action & Adventure': 1, 'Music & Audio;Music & Video': 1, 'Education;Brain Games': 1, 'Education;Music & Video': 3, 'Educational;Action & Adventure': 3, 'Music;Music & Video': 2, 'Racing;Pretend Play': 1, 'Puzzle;Education': 1, 'Educational;Education': 35, 'Education': 382, 'Entertainment;Brain Games': 6, 'Art & Design;Pretend Play': 1, 'Communication;Creativity': 1, 'Strategy': 66, 'Entertainment': 458, 'Entertainment;Creativity': 2, 'Lifestyle;Education': 1, 'Strategy;Action & Adventure': 1, 'Adventure;Action & Adventure': 3, 'Health & Fitness;Education': 1, 'Simulation;Education': 1, 'Racing;Action & Adventure': 15, 'Casual;Brain Games': 11, 'Casual;Creativity': 6, 'Simulation;Action & Adventure': 7, 'Casual;Education': 2, 'Educational;Brain Games': 6, 'Simulation': 174, 'Board;Brain Games': 7, 'Casual': 134, 'Education;Action & Adventure': 3, 'Art & Design;Creativity': 2, 'Sports;Action & Adventure': 2, 'Puzzle;Creativity': 2, 'Books & Reference;Education': 1, 'Education;Creativity': 2, 'Adventure;Education': 1, 'Arcade;Action & Adventure': 11}\n"
     ]
    }
   ],
   "source": [
    "FAMILY_genre={}\n",
    "for app in free_android:\n",
    "    if app[1]==\"FAMILY\":\n",
    "        genre=app[9]\n",
    "        if genre not in FAMILY_genre:\n",
    "            FAMILY_genre[genre]=1\n",
    "        else:\n",
    "            FAMILY_genre[genre]+=1\n",
    "print(FAMILY_genre)"
   ]
  },
  {
   "cell_type": "markdown",
   "metadata": {},
   "source": [
    "We see that many apps within the FAMILY category are actually games.\n",
    "\n",
    "The difference between the category column and genre column is not easy to follow. There are however more genres than there are categories. Therefore, we will instead focus on the genres column as we continue."
   ]
  },
  {
   "cell_type": "code",
   "execution_count": 31,
   "metadata": {},
   "outputs": [
    {
     "name": "stdout",
     "output_type": "stream",
     "text": [
      "['id', 'track_name', 'size_bytes', 'currency', 'price', 'rating_count_tot', 'rating_count_ver', 'user_rating', 'user_rating_ver', 'ver', 'cont_rating', 'prime_genre', 'sup_devices.num', 'ipadSc_urls.num', 'lang.num', 'vpp_lic']\n",
      "\n",
      "\n",
      "['App', 'Category', 'Rating', 'Reviews', 'Size', 'Installs', 'Type', 'Price', 'Content Rating', 'Genres', 'Last Updated', 'Current Ver', 'Android Ver']\n"
     ]
    }
   ],
   "source": [
    "print(IOS_header)\n",
    "print('\\n')\n",
    "print(android_header)"
   ]
  },
  {
   "cell_type": "markdown",
   "metadata": {},
   "source": [
    "# Popular apps by genre\n",
    "We will now look into the popularity of genres.\n",
    "\n",
    "For the android apps, we can focus on the column **Installs ( index 5)** and get an average number of installs per genre.\n",
    "\n",
    "For the IOS apps, there is no column which desiplays the number of installs, we will therefore focus on the column **rating_count_tot (index 5)** which displays the number of ratings made.\n",
    "\n",
    "To do this, we will need to :\n",
    "- Isolate apps for each genre\n",
    "- Sum up the user ratings for each app genre\n",
    "- Divide the sum by the number of apps belonging to that genre\n"
   ]
  },
  {
   "cell_type": "code",
   "execution_count": 32,
   "metadata": {
    "scrolled": true
   },
   "outputs": [
    {
     "name": "stdout",
     "output_type": "stream",
     "text": [
      "Music : 57327\n",
      "Finance : 31468\n",
      "Travel : 28244\n",
      "Utilities : 18684\n",
      "Business : 7491\n",
      "Sports : 23009\n",
      "Entertainment : 14030\n",
      "Games : 22789\n",
      "Productivity : 21028\n",
      "Reference : 74942\n",
      "Shopping : 26920\n",
      "News : 21248\n",
      "Catalogs : 4004\n",
      "Lifestyle : 16486\n",
      "Education : 7004\n",
      "Navigation : 86090\n",
      "Photo & Video : 28442\n",
      "Weather : 52280\n",
      "Social Networking : 71548\n",
      "Health & Fitness : 23298\n",
      "Book : 39758\n",
      "Food & Drink : 33334\n",
      "Medical : 612\n"
     ]
    }
   ],
   "source": [
    "genres_IOS = freq_table(free_IOS, 11)\n",
    "for genre in genres_IOS:\n",
    "    total=0     # Storing the sum of the user ratings for each genre\n",
    "    len_genre=0 # Storing the number of apps specific to each genre\n",
    "    for app in free_IOS:\n",
    "        genre_app=app[11] # Saving the genre for an app\n",
    "        if genre_app==genre:\n",
    "            n_ratings=float(app[5])\n",
    "            total += n_ratings\n",
    "            len_genre += 1\n",
    "            \n",
    "            \n",
    "    avg_n_ratings=total/len_genre\n",
    "    print(genre,':',round(avg_n_ratings))"
   ]
  },
  {
   "cell_type": "markdown",
   "metadata": {},
   "source": [
    "Before making a clear analyz we might consider shortening our scope a bit. We know that Facebook and instagram are widely known apps used by many, but we do not exactly know how popular they are. It might just be that the ratings for these apps(Instagram and facebook), stand for more than half of the ratings. The same might of course be true for the other genres. \n",
    "If this is the case, then making apps in these genres might not be the best market for our developers since all the other hundreds, if not thousands apps in these markets, have not gotten much recognition either. \n",
    "If we think about it from a user perspective: if you use a social app that most of your friends use, then there might not be so much of a necessity to use other social apps. If you use a navigation app that has worked really good for you so far, then you probably would not spend a lot of time trying to find a better one. The same could not be said about games, since a game has usually has an end point, it can be finished, and at some point we get tired of playing the same games so we want to find new ones. But a practical app is mostly not used because it is fun to use it, but because we need to use it to accomplish some task. We should therefore look a bit closer at the data set. \n",
    "\n",
    "We will begint by taking a closer look at the genre that had the highest amount of genres, Navigation."
   ]
  },
  {
   "cell_type": "code",
   "execution_count": 33,
   "metadata": {},
   "outputs": [
    {
     "name": "stdout",
     "output_type": "stream",
     "text": [
      "Waze - GPS Navigation, Maps & Real-time Traffic : 345046\n",
      "Google Maps - Navigation & Transit : 154911\n",
      "Geocaching® : 12811\n",
      "CoPilot GPS – Car Navigation & Offline Maps : 3582\n",
      "ImmobilienScout24: Real Estate Search in Germany : 187\n",
      "Railway Route Search : 5\n",
      "\n",
      "\n",
      "Total number of apps in this genre is: 516542.0\n"
     ]
    }
   ],
   "source": [
    "total=0\n",
    "for app in free_IOS:\n",
    "    if app[11]=='Navigation':\n",
    "        total+=float(app[5])\n",
    "        print(app[1],':',app[5])\n",
    "print('\\n')   \n",
    "print('Total number of apps in this genre is:',total)"
   ]
  },
  {
   "cell_type": "markdown",
   "metadata": {},
   "source": [
    "We see that there only are 6 apps in total for the **Navigation** genre.\n",
    "We also see that approximately half a million ratings have been made for the 2 biggest apps, **Waze** and **Google Maps**. \n",
    "The total number of ratings has been 516 542. \n",
    "This means that around 97% of the ratings belong to the biggest apps."
   ]
  },
  {
   "cell_type": "code",
   "execution_count": 34,
   "metadata": {
    "scrolled": true
   },
   "outputs": [
    {
     "name": "stdout",
     "output_type": "stream",
     "text": [
      "Facebook : 2974676\n",
      "Pinterest : 1061624\n",
      "Skype for iPhone : 373519\n",
      "Messenger : 351466\n",
      "Tumblr : 334293\n",
      "WhatsApp Messenger : 287589\n",
      "Kik : 260965\n",
      "ooVoo – Free Video Call, Text and Voice : 177501\n",
      "TextNow - Unlimited Text + Calls : 164963\n",
      "Viber Messenger – Text & Call : 164249\n",
      "Followers - Social Analytics For Instagram : 112778\n",
      "MeetMe - Chat and Meet New People : 97072\n",
      "We Heart It - Fashion, wallpapers, quotes, tattoos : 90414\n",
      "InsTrack for Instagram - Analytics Plus More : 85535\n",
      "Tango - Free Video Call, Voice and Chat : 75412\n",
      "LinkedIn : 71856\n",
      "Match™ - #1 Dating App. : 60659\n",
      "Skype for iPad : 60163\n",
      "POF - Best Dating App for Conversations : 52642\n",
      "Timehop : 49510\n",
      "Find My Family, Friends & iPhone - Life360 Locator : 43877\n",
      "Whisper - Share, Express, Meet : 39819\n",
      "Hangouts : 36404\n",
      "LINE PLAY - Your Avatar World : 34677\n",
      "WeChat : 34584\n",
      "Badoo - Meet New People, Chat, Socialize. : 34428\n",
      "Followers + for Instagram - Follower Analytics : 28633\n",
      "GroupMe : 28260\n",
      "Marco Polo Video Walkie Talkie : 27662\n",
      "Miitomo : 23965\n",
      "SimSimi : 23530\n",
      "Grindr - Gay and same sex guys chat, meet and date : 23201\n",
      "Wishbone - Compare Anything : 20649\n",
      "imo video calls and chat : 18841\n",
      "After School - Funny Anonymous School News : 18482\n",
      "Quick Reposter - Repost, Regram and Reshare Photos : 17694\n",
      "Weibo HD : 16772\n",
      "Repost for Instagram : 15185\n",
      "Live.me – Live Video Chat & Make Friends Nearby : 14724\n",
      "Nextdoor : 14402\n",
      "Followers Analytics for Instagram - InstaReport : 13914\n",
      "YouNow: Live Stream Video Chat : 12079\n",
      "FollowMeter for Instagram - Followers Tracking : 11976\n",
      "LINE : 11437\n",
      "eHarmony™ Dating App - Meet Singles : 11124\n",
      "Discord - Chat for Gamers : 9152\n",
      "QQ : 9109\n",
      "Telegram Messenger : 7573\n",
      "Weibo : 7265\n",
      "Periscope - Live Video Streaming Around the World : 6062\n",
      "Chat for Whatsapp - iPad Version : 5060\n",
      "QQ HD : 5058\n",
      "Followers Analysis Tool For Instagram App Free : 4253\n",
      "live.ly - live video streaming : 4145\n",
      "Houseparty - Group Video Chat : 3991\n",
      "SOMA Messenger : 3232\n",
      "Monkey : 3060\n",
      "Down To Lunch : 2535\n",
      "Flinch - Video Chat Staring Contest : 2134\n",
      "Highrise - Your Avatar Community : 2011\n",
      "LOVOO - Dating Chat : 1985\n",
      "PlayStation®Messages : 1918\n",
      "BOO! - Video chat camera with filters & stickers : 1805\n",
      "Qzone : 1649\n",
      "Chatous - Chat with new people : 1609\n",
      "Kiwi - Q&A : 1538\n",
      "GhostCodes - a discovery app for Snapchat : 1313\n",
      "Jodel : 1193\n",
      "FireChat : 1037\n",
      "Google Duo - simple video calling : 1033\n",
      "Fiesta by Tango - Chat & Meet New People : 885\n",
      "Google Allo — smart messaging : 862\n",
      "Peach — share vividly : 727\n",
      "Hey! VINA - Where Women Meet New Friends : 719\n",
      "Battlefield™ Companion : 689\n",
      "All Devices for WhatsApp - Messenger for iPad : 682\n",
      "Chat for Pokemon Go - GoChat : 500\n",
      "IAmNaughty – Dating App to Meet New People Online : 463\n",
      "Qzone HD : 458\n",
      "Zenly - Locate your friends in realtime : 427\n",
      "League of Legends Friends : 420\n",
      "豆瓣 : 407\n",
      "Candid - Speak Your Mind Freely : 398\n",
      "知乎 : 397\n",
      "Selfeo : 366\n",
      "Fake-A-Location Free ™ : 354\n",
      "Popcorn Buzz - Free Group Calls : 281\n",
      "Fam — Group video calling for iMessage : 279\n",
      "QQ International : 274\n",
      "Ameba : 269\n",
      "SoundCloud Pulse: for creators : 240\n",
      "Tantan : 235\n",
      "Cougar Dating & Life Style App for Mature Women : 213\n",
      "Rawr Messenger - Dab your chat : 180\n",
      "WhenToPost: Best Time to Post Photos for Instagram : 158\n",
      "Inke—Broadcast an amazing life : 147\n",
      "Mustknow - anonymous video Q&A : 53\n",
      "CTFxCmoji : 39\n",
      "Lobi : 36\n",
      "Chain: Collaborate On MyVideo Story/Group Video : 35\n",
      "botman - Real time video chat : 7\n",
      "BestieBox : 0\n",
      "MATCH ON LINE chat : 0\n",
      "niconico ch : 0\n",
      "LINE BLOG : 0\n",
      "bit-tube - Live Stream Video Chat : 0\n",
      "\n",
      "\n",
      "Total number of apps in this genre is: 7584125.0\n"
     ]
    }
   ],
   "source": [
    "total=0\n",
    "for app in free_IOS:\n",
    "    if app[11]=='Social Networking':\n",
    "        total+=float(app[5])\n",
    "        print(app[1],':',app[5])\n",
    "print('\\n')   \n",
    "print('Total number of apps in this genre is:',total)"
   ]
  },
  {
   "cell_type": "markdown",
   "metadata": {},
   "source": [
    "Above, we examined the number of ratings for the apps in **Social Networking**.\n",
    "As with the genre **Navigation**, there are some apps here that totally dominate the dataset, like **Facebook**, **Pinterest**, and **Skype for iPhone** which stand for __58%__ of the ratings."
   ]
  },
  {
   "cell_type": "code",
   "execution_count": 35,
   "metadata": {},
   "outputs": [
    {
     "name": "stdout",
     "output_type": "stream",
     "text": [
      "Bible : 985920\n",
      "Dictionary.com Dictionary & Thesaurus : 200047\n",
      "Dictionary.com Dictionary & Thesaurus for iPad : 54175\n",
      "Google Translate : 26786\n",
      "Muslim Pro: Ramadan 2017 Prayer Times, Azan, Quran : 18418\n",
      "New Furniture Mods - Pocket Wiki & Game Tools for Minecraft PC Edition : 17588\n",
      "Merriam-Webster Dictionary : 16849\n",
      "Night Sky : 12122\n",
      "City Maps for Minecraft PE - The Best Maps for Minecraft Pocket Edition (MCPE) : 8535\n",
      "LUCKY BLOCK MOD ™ for Minecraft PC Edition - The Best Pocket Wiki & Mods Installer Tools : 4693\n",
      "GUNS MODS for Minecraft PC Edition - Mods Tools : 1497\n",
      "Guides for Pokémon GO - Pokemon GO News and Cheats : 826\n",
      "WWDC : 762\n",
      "Horror Maps for Minecraft PE - Download The Scariest Maps for Minecraft Pocket Edition (MCPE) Free : 718\n",
      "VPN Express : 14\n",
      "Real Bike Traffic Rider Virtual Reality Glasses : 8\n",
      "教えて!goo : 0\n",
      "Jishokun-Japanese English Dictionary & Translator : 0\n",
      "\n",
      "\n",
      "Total number of apps in this genre is: 1348958.0\n"
     ]
    }
   ],
   "source": [
    "total=0\n",
    "for app in free_IOS:\n",
    "    if app[11]=='Reference':\n",
    "        total+=float(app[5])\n",
    "        print(app[1],':',app[5])\n",
    "print('\\n')   \n",
    "print('Total number of apps in this genre is:',total)"
   ]
  },
  {
   "cell_type": "markdown",
   "metadata": {},
   "source": [
    "Above, we examined the number of ratings for the apps in **Reference**. the **Bible** app accounts for **73 %** of the total ratings. If we also include **Dictionary.com** this amount goes up to **91 %**.\n",
    "\n",
    "As we have sen so far, there are apps in some genres that make a genre seem more popular than it actually is. We could remove these big apps and make another average on the genres, but we will leave this bit for now. \n",
    "\n",
    "One thing to keep in mind is that, even though the amounts of ratings might be misleading because of some apps pushing the ratings much more than the rest, these big apps might be a potional market. For instance, if there is one app that highly dominates the market then we could try to make a similar app, but which adds a nice feature that might we appreciated by the users. One idea might be to recreate a popular **Music** app, but with the potential of using parts of songs as your ringtone. \n",
    "\n",
    "A good idea to stand out with an app would also be to focus on a genre that is not dominated, because there is a higher chance that our app would stand out. Making a **game** might for instance not be the best choice because we would have to compete with the other 2 milion games on **App Store**.\n",
    "\n",
    "We will now look into the Google play data set."
   ]
  },
  {
   "cell_type": "markdown",
   "metadata": {},
   "source": [
    "# Popular app genres on Google Play\n",
    "In this data set we have information about the number of installs per app, so we do not have to focus on the ratings. However, the installs are not precise because they are open-ended, like **10 000+**, **100 000+** and **1 000 000+**."
   ]
  },
  {
   "cell_type": "markdown",
   "metadata": {},
   "source": [
    "The installs can be a bit confusing because **50 000+** can be 51 000 or 98 000. \n",
    "Luckily for us we only want to know which genres that attract most users, so we can still work with this kind of data. We will leave the numbers as they are and consider the numbers that are written, so **50 000+** will be considered as **50 000 installs**. \n",
    "\n",
    "Each install value is however written as a **string**, and we need it as a **float**, that means that we have to convert the string to a float, but also remove the **+** sign to not raise any errors during the conversion. \n",
    "\n",
    "To remove the **+** sign we will use the built-in function str.replace(old,new). This function takes in 2 paramets, **old** and **new**, and replaces all occurences of **old** within a string with **new**. This will be done directly in the loop where we collect the average number of installs per category, see below.\n"
   ]
  },
  {
   "cell_type": "code",
   "execution_count": 36,
   "metadata": {
    "scrolled": true
   },
   "outputs": [
    {
     "name": "stdout",
     "output_type": "stream",
     "text": [
      "BUSINESS : 1712290\n",
      "LIFESTYLE : 1437816\n",
      "BEAUTY : 513152\n",
      "TRAVEL_AND_LOCAL : 13984078\n",
      "COMICS : 817657\n",
      "PHOTOGRAPHY : 17840110\n",
      "HOUSE_AND_HOME : 1331541\n",
      "BOOKS_AND_REFERENCE : 8767812\n",
      "FINANCE : 1387692\n",
      "VIDEO_PLAYERS : 24727872\n",
      "ART_AND_DESIGN : 1986335\n",
      "AUTO_AND_VEHICLES : 647318\n",
      "SPORTS : 3638640\n",
      "EDUCATION : 1833495\n",
      "MAPS_AND_NAVIGATION : 4056942\n",
      "SHOPPING : 7036877\n",
      "DATING : 854029\n",
      "SOCIAL : 23253652\n",
      "GAME : 15588016\n",
      "LIBRARIES_AND_DEMO : 638504\n",
      "TOOLS : 10801391\n",
      "FOOD_AND_DRINK : 1924898\n",
      "PERSONALIZATION : 5201483\n",
      "FAMILY : 3695642\n",
      "HEALTH_AND_FITNESS : 4188822\n",
      "MEDICAL : 120551\n",
      "COMMUNICATION : 38456119\n",
      "WEATHER : 5074486\n",
      "EVENTS : 253542\n",
      "NEWS_AND_MAGAZINES : 9549178\n",
      "PARENTING : 542604\n",
      "ENTERTAINMENT : 11640706\n",
      "PRODUCTIVITY : 16787331\n"
     ]
    }
   ],
   "source": [
    "category_freq=freq_table(free_android,1)\n",
    "for category in category_freq:\n",
    "    total=0 # storing sum of total installs per genre\n",
    "    len_category=0 #Stores the number of apps specifict to each category \n",
    "    for app in free_android:\n",
    "        category_app=app[1]\n",
    "        if category_app==category:\n",
    "            n_installs=app[5]\n",
    "            n_installs=n_installs.replace(',','')\n",
    "            n_installs=n_installs.replace('+','')\n",
    "            total += float(n_installs)\n",
    "            len_category += 1\n",
    "            \n",
    "    avg_installs=total/len_category\n",
    "    print(category,':',round(avg_installs))"
   ]
  },
  {
   "cell_type": "markdown",
   "metadata": {},
   "source": [
    "The biggest number of installs occured for the following apps:\n",
    "1. COMMUNICATION    : 38 456 119\n",
    "2. VIDEO_PLAYERS    : 24 727 872\n",
    "3. SOCIAL           : 23 253 652\n",
    "4. PHOTOGRAPHY      : 17 840 110\n",
    "5. PRODUCTIVITY     : 16 787 331\n",
    "6. GAME             : 15 588 016\n",
    "7. TRAVEL_AND_LOCAL : 13 984 078\n",
    "8. ENTERTAINMENT    : 11 640 706\n",
    "9. TOOLS            : 10 801 391 "
   ]
  },
  {
   "cell_type": "code",
   "execution_count": 37,
   "metadata": {},
   "outputs": [
    {
     "name": "stdout",
     "output_type": "stream",
     "text": [
      "WhatsApp Messenger : 1,000,000,000+\n",
      "Messenger for SMS : 10,000,000+\n",
      "My Tele2 : 5,000,000+\n",
      "imo beta free calls and text : 100,000,000+\n",
      "Contacts : 50,000,000+\n",
      "Call Free – Free Call : 5,000,000+\n",
      "Web Browser & Explorer : 5,000,000+\n",
      "Browser 4G : 10,000,000+\n",
      "MegaFon Dashboard : 10,000,000+\n",
      "ZenUI Dialer & Contacts : 10,000,000+\n",
      "Cricket Visual Voicemail : 10,000,000+\n",
      "TracFone My Account : 1,000,000+\n",
      "Xperia Link™ : 10,000,000+\n",
      "TouchPal Keyboard - Fun Emoji & Android Keyboard : 10,000,000+\n",
      "Skype Lite - Free Video Call & Chat : 5,000,000+\n",
      "My magenta : 1,000,000+\n",
      "Android Messages : 100,000,000+\n",
      "Google Duo - High Quality Video Calls : 500,000,000+\n",
      "Seznam.cz : 1,000,000+\n",
      "Antillean Gold Telegram (original version) : 100,000+\n",
      "AT&T Visual Voicemail : 10,000,000+\n",
      "GMX Mail : 10,000,000+\n",
      "Omlet Chat : 10,000,000+\n",
      "My Vodacom SA : 5,000,000+\n",
      "Microsoft Edge : 5,000,000+\n",
      "Messenger – Text and Video Chat for Free : 1,000,000,000+\n",
      "imo free video calls and chat : 500,000,000+\n",
      "Calls & Text by Mo+ : 5,000,000+\n",
      "free video calls and chat : 50,000,000+\n",
      "Skype - free IM & video calls : 1,000,000,000+\n",
      "Who : 100,000,000+\n",
      "GO SMS Pro - Messenger, Free Themes, Emoji : 100,000,000+\n",
      "Messaging+ SMS, MMS Free : 1,000,000+\n",
      "chomp SMS : 10,000,000+\n",
      "Glide - Video Chat Messenger : 10,000,000+\n",
      "Text SMS : 10,000,000+\n",
      "Talkray - Free Calls & Texts : 10,000,000+\n",
      "LINE: Free Calls & Messages : 500,000,000+\n",
      "GroupMe : 10,000,000+\n",
      "mysms SMS Text Messaging Sync : 1,000,000+\n",
      "2ndLine - Second Phone Number : 1,000,000+\n",
      "Google Chrome: Fast & Secure : 1,000,000,000+\n",
      "Firefox Browser fast & private : 100,000,000+\n",
      "Ninesky Browser : 1,000,000+\n",
      "Dolphin Browser - Fast, Private & Adblock🐬 : 50,000,000+\n",
      "UC Browser - Fast Download Private & Secure : 500,000,000+\n",
      "Ghostery Privacy Browser : 1,000,000+\n",
      "InBrowser - Incognito Browsing : 1,000,000+\n",
      "Lightning Web Browser : 500,000+\n",
      "Web Browser : 500,000+\n",
      "Contacts+ : 10,000,000+\n",
      "ExDialer - Dialer & Contacts : 10,000,000+\n",
      "PHONE for Google Voice & GTalk : 1,000,000+\n",
      "Safest Call Blocker : 1,000,000+\n",
      "Full Screen Caller ID : 5,000,000+\n",
      "Hiya - Caller ID & Block : 10,000,000+\n",
      "Mr. Number-Block calls & spam : 10,000,000+\n",
      "Should I Answer? : 1,000,000+\n",
      "RocketDial Dialer & Contacts : 1,000,000+\n",
      "CIA - Caller ID & Call Blocker : 5,000,000+\n",
      "Calls Blacklist - Call Blocker : 10,000,000+\n",
      "Call Control - Call Blocker : 5,000,000+\n",
      "True Contact - Real Caller ID : 1,000,000+\n",
      "Video Caller Id : 1,000,000+\n",
      "Sync.ME – Caller ID & Block : 5,000,000+\n",
      "Burner - Free Phone Number : 1,000,000+\n",
      "Caller ID + : 1,000,000+\n",
      "Gmail : 1,000,000,000+\n",
      "K-9 Mail : 5,000,000+\n",
      "myMail – Email for Hotmail, Gmail and Outlook Mail : 10,000,000+\n",
      "Email TypeApp - Mail App : 1,000,000+\n",
      "All Email Providers : 1,000,000+\n",
      "Newton Mail - Email App for Gmail, Outlook, IMAP : 1,000,000+\n",
      "GO Notifier : 10,000,000+\n",
      "Mail.Ru - Email App : 50,000,000+\n",
      "Mail1Click - Secure Mail : 10,000+\n",
      "Daum Mail - Next Mail : 5,000,000+\n",
      "mail.com mail : 1,000,000+\n",
      "SolMail - All-in-One email app : 500,000+\n",
      "Hangouts : 1,000,000,000+\n",
      "Vonage Mobile® Call Video Text : 1,000,000+\n",
      "JusTalk - Free Video Calls and Fun Video Chat : 5,000,000+\n",
      "Azar : 50,000,000+\n",
      "LokLok: Draw on a Lock Screen : 500,000+\n",
      "Discord - Chat for Gamers : 10,000,000+\n",
      "Messenger Lite: Free Calls & Messages : 100,000,000+\n",
      "AntennaPict β : 1,000,000+\n",
      "Talkatone: Free Texts, Calls & Phone Number : 10,000,000+\n",
      "Kik : 100,000,000+\n",
      "K-@ Mail - Email App : 100,000+\n",
      "KakaoTalk: Free Calls & Text : 100,000,000+\n",
      "K-9 Material (unofficial) : 5,000+\n",
      "M star Dialer : 100,000+\n",
      "Free WiFi Connect : 10,000,000+\n",
      "m:go BiH : 10,000+\n",
      "N-Com Wizard : 50,000+\n",
      "Opera Mini - fast web browser : 100,000,000+\n",
      "Opera Browser: Fast and Secure : 100,000,000+\n",
      "Opera Mini browser beta : 10,000,000+\n",
      "Psiphon Pro - The Internet Freedom VPN : 10,000,000+\n",
      "ICQ — Video Calls & Chat Messenger : 10,000,000+\n",
      "Telegram : 100,000,000+\n",
      "AT&T Messages for Tablet : 1,000,000+\n",
      "T-Mobile DIGITS : 100,000+\n",
      "Truecaller: Caller ID, SMS spam blocking & Dialer : 100,000,000+\n",
      "Portable Wi-Fi hotspot : 10,000,000+\n",
      "AT&T Call Protect : 5,000,000+\n",
      "U - Webinars, Meetings & Messenger : 500,000+\n",
      "UC Browser Mini -Tiny Fast Private & Secure : 100,000,000+\n",
      "/u/app : 10,000+\n",
      "[verify-U] VideoIdent : 10,000+\n",
      "Viber Messenger : 500,000,000+\n",
      "WeChat : 100,000,000+\n",
      "WhatsApp Business : 10,000,000+\n",
      "WhatsCall Free Global Phone Call App & Cheap Calls : 10,000,000+\n",
      "X Browser : 50,000+\n",
      "Yahoo Mail – Stay Organized : 100,000,000+\n",
      "Free Adblocker Browser - Adblock & Popup Blocker : 10,000,000+\n",
      "Adblock Browser for Android : 10,000,000+\n",
      "CM Browser - Ad Blocker , Fast Download , Privacy : 50,000,000+\n",
      "Adblock Plus for Samsung Internet - Browse safe. : 1,000,000+\n",
      "Ad Blocker Turbo - Adblocker Browser : 10,000+\n",
      "Brave Browser: Fast AdBlocker : 5,000,000+\n",
      "AG Contacts, Lite edition : 5,000+\n",
      "Oklahoma Ag Co-op Council : 10+\n",
      "Bee'ah Employee App : 100+\n",
      "tournaments and more.aj.2 : 100+\n",
      "Aj.Petra : 100+\n",
      "AK Phone : 5,000+\n",
      "PlacarTv Futebol Ao Vivo : 100,000+\n",
      "WiFi Access Point (hotspot) : 100,000+\n",
      "Access Point Names : 10,000+\n",
      "Puffin Web Browser : 10,000,000+\n",
      "ClanHQ : 10,000+\n",
      "Ear Agent: Super Hearing : 5,000,000+\n",
      "Google Voice : 10,000,000+\n",
      "Google Allo : 10,000,000+\n",
      "AU Call Blocker - Block Unwanted Calls Texts 2018 : 1,000+\n",
      "Baby Monitor AV : 100,000+\n",
      "AV Phone : 1,000+\n",
      "AW - free video calls and chat : 1,000,000+\n",
      "Katalogen.ax : 100+\n",
      "AZ Browser. Private & Download : 100,000+\n",
      "BA SALES : 1+\n",
      "BD Data Plan (3G & 4G) : 500,000+\n",
      "BD Internet Packages (Updated) : 50,000+\n",
      "BD Dialer : 10,000+\n",
      "BD Live Call : 5,000+\n",
      "Best Browser BD social networking : 10+\n",
      "Traffic signs BD : 500+\n",
      "BF Browser by Betfilter - Stop Gambling Today! : 10,000+\n",
      "My BF App : 50,000+\n",
      "BH Mail : 1,000+\n",
      "Zalo – Video Call : 50,000,000+\n",
      "BJ - Confidential : 10+\n",
      "BK Chat : 1,000+\n",
      "Of the wall Arapaho bk : 5+\n",
      "AC-BL : 50+\n",
      "BBM - Free Calls & Messages : 100,000,000+\n",
      "DMR BrandMeister Tool : 10,000+\n",
      "BBMoji - Your personalized BBM Stickers : 1,000,000+\n",
      "BN MALLORCA Radio : 1,000+\n",
      "BQ Partners : 1,000+\n",
      "BS-Mobile : 50+\n",
      "ATC Unico BS : 500+\n",
      "BT One Voice mobile access : 5,000+\n",
      "BT Messenger : 50,000+\n",
      "BT One Phone Mobile App : 10,000+\n",
      "SW-100.tch by Callstel : 1,000,000+\n",
      "BT MeetMe with Dolby Voice : 100,000+\n",
      "Bluetooth Auto Connect : 5,000,000+\n",
      "AudioBT: BT audio GPS/SMS/Text : 50,000+\n",
      "BV : 100+\n",
      "Feel Performer : 10,000+\n",
      "Tiny Call Confirm : 1,000,000+\n",
      "CB Radio Chat - for friends! : 1,000,000+\n",
      "CB On Mobile : 100,000+\n",
      "Virtual Walkie Talkie : 1,000,000+\n",
      "Channel 19 : 100,000+\n",
      "Cb browser : 50+\n",
      "CF Chat: Connecting Friends : 100+\n",
      "retteMi.ch : 5,000+\n",
      "Chrome Dev : 5,000,000+\n",
      "CJ Browser - Fast & Private : 100+\n",
      "CJ DVD Rentals : 100+\n",
      "CK Call NEW : 10+\n",
      "CM Transfer - Share any files with friends nearby : 5,000,000+\n",
      "mail.co.uk Mail : 5,000+\n",
      "ClanPlay: Community and Tools for Gamers : 1,000,000+\n",
      "CQ-Mobile : 1,000+\n",
      "CQ-Alert : 500+\n",
      "QRZ Assistant : 100,000+\n",
      "Pocket Prefix Plus : 10,000+\n",
      "Ham Radio Prefixes : 10,000+\n",
      "CS Customizer : 1,000+\n",
      "CS Browser | #1 & BEST BROWSER : 1,000+\n",
      "CS Browser Beta : 5,000+\n",
      "My Vodafone (GR) : 1,000,000+\n",
      "IZ2UUF Morse Koch CW : 50,000+\n",
      "C W Browser : 100+\n",
      "CW Bluetooth SPP : 100+\n",
      "CW BLE Peripheral Simulator : 500+\n",
      "Morse Code Reader : 100,000+\n",
      "Learn Morse Code - G0HYN Learn Morse : 5,000+\n",
      "Ring : 10,000+\n",
      "Hyundai CX Conference : 50+\n",
      "Cy Messenger : 100+\n",
      "Amadeus GR & CY : 100+\n",
      "Hlášenírozhlasu.cz : 10+\n",
      "SMS Sender - sluzba.cz : 1,000+\n",
      "WEB.DE Mail : 10,000,000+\n",
      "Your Freedom VPN Client : 5,000,000+\n",
      "CallApp: Caller ID, Blocker & Phone Call Recorder : 10,000,000+\n",
      "Rádio Sol Nascente DF : 500+\n",
      "DG Card : 100+\n",
      "Whoscall - Caller ID & Block : 10,000,000+\n",
      "DK Browser : 10+\n",
      "cluster.dk : 1,000+\n",
      "DK TEL Dialer : 50+\n",
      "DM for WhatsApp : 5,000+\n",
      "DM Talk New : 5,000+\n",
      "DM - The Offical Messaging App : 10+\n",
      "DM Tracker : 1,000+\n",
      "Call Blocker & Blacklist : 1,000+\n",
      "ReadyOp DT : 1,000+\n",
      "DU Browser—Browse fast & fun : 10,000,000+\n",
      "Caller ID & Call Block - DU Caller : 5,000,000+\n",
      "BlueDV AMBE : 1,000+\n",
      "DW Contacts & Phone & Dialer : 1,000,000+\n",
      "Deaf World DW : 10,000+\n",
      "Ham DX Cluster & Spots Finder : 5,000+\n",
      "Mircules DX Cluster Lite : 5,000+\n",
      "3G DZ Configuration : 50,000+\n",
      "chat dz : 100+\n",
      "love sms good morning : 5,000+\n",
      "Goodbox - Mega App : 100,000+\n",
      "Call Blocker - Blacklist, SMS Blocker : 1,000,000+\n",
      "[EF]ShoutBox : 100+\n",
      "Eg Call : 10,000+\n",
      "ei : 10+\n",
      "EJ messenger : 10+\n",
      "Ek IRA : 10+\n",
      "Orfox: Tor Browser for Android : 10,000,000+\n",
      "EO Mumbai : 10+\n",
      "EP RSS Reader : 100+\n",
      "Voxer Walkie Talkie Messenger : 10,000,000+\n",
      "ES-1 : 500+\n",
      "Hangouts Dialer - Call Phones : 10,000,000+\n",
      "EU Council : 1,000+\n",
      "Council Voting Calculator : 5,000+\n",
      "Have your say on Europe : 500+\n",
      "Programi podrške EU : 100+\n",
      "Inbox.eu : 10,000+\n",
      "Web Browser for Android : 1,000,000+\n",
      "Everbridge : 100,000+\n",
      "Best Auto Call Recorder Free : 500+\n",
      "EZ Wifi Notification : 10,000+\n",
      "Test Server SMS FA : 5+\n",
      "Lite for Facebook Messenger : 1,000,000+\n",
      "FC Browser - Focus Privacy Browser : 1,000+\n",
      "EHiN-FH conferenceapp : 100+\n",
      "Carpooling FH Hagenberg : 100+\n",
      "Wi-Fi Auto-connect : 1,000,000+\n",
      "Talkie - Wi-Fi Calling, Chats, File Sharing : 500,000+\n",
      "WeFi - Free Fast WiFi Connect & Find Wi-Fi Map : 1,000,000+\n",
      "Sat-Fi : 5,000+\n",
      "Portable Wi-Fi hotspot Free : 100,000+\n",
      "TownWiFi | Wi-Fi Everywhere : 500,000+\n",
      "Jazz Wi-Fi : 10,000+\n",
      "Sat-Fi Voice : 1,000+\n",
      "Free Wi-fi HotspoT : 50,000+\n",
      "FN Web Radio : 10+\n",
      "FNH Payment Info : 10+\n",
      "MARKET FO : 100+\n",
      "FO OP St-Nazaire : 100+\n",
      "FO SODEXO : 100+\n",
      "FO RCBT : 100+\n",
      "FO Interim : 100+\n",
      "FO PSA Sept-Fons : 100+\n",
      "FO AIRBUS TLSE : 1,000+\n",
      "FO STELIA Méaulte : 100+\n",
      "FO AIRBUS Nantes : 100+\n",
      "Firefox Focus: The privacy browser : 1,000,000+\n",
      "FP Connect : 100+\n",
      "FreedomPop Messaging Phone/SIM : 500,000+\n",
      "FP Live : 10+\n",
      "HipChat - beta version : 50,000+\n",
      "There are:  287  apps in this category and 11036906201 installs\n"
     ]
    }
   ],
   "source": [
    "length = 0 \n",
    "installs= 0\n",
    "for app in free_android:\n",
    "    if app[1]==\"COMMUNICATION\":\n",
    "        length +=1\n",
    "        n=app[5]\n",
    "        n=n.replace(',','')\n",
    "        n=n.replace('+','')\n",
    "        installs +=float(n)\n",
    "        print(app[0],':',app[5])\n",
    "print(\"There are: \", length,\" apps in this category and\",int(installs), \"installs\")"
   ]
  },
  {
   "cell_type": "markdown",
   "metadata": {},
   "source": [
    "Above we looked into apps categorized with **Communication**, which is the category with the highest number of installs. As with the app store data set, the google play data is boosted a lot by a few apps. For instance, **WhatsApp Messenger, Messenger, Skype, Google Chrome, Gmail and hangouts** all have an install number of **1,000,000,000+**. \n",
    "\n",
    "There are around 11 bilion installments for this category. That means that these 5 apps cover almost half of the installments.\n",
    "\n",
    "Now we will create a function below that will count the average installs for apps that have less than 100,000,000 installs. This might gives us better insight in the data set."
   ]
  },
  {
   "cell_type": "code",
   "execution_count": 43,
   "metadata": {},
   "outputs": [],
   "source": [
    "def removing_100mil(category): # index 5 for installs\n",
    "    length = 0 \n",
    "    installs= 0\n",
    "    for app in free_android:\n",
    "        if app[1]==category:\n",
    "            n=app[5]\n",
    "            n=n.replace(',','')\n",
    "            n=n.replace('+','')\n",
    "            n=float(n)\n",
    "            if n<100000000:  \n",
    "                length +=1          \n",
    "                installs +=float(n)\n",
    "    avg=round(installs/length)\n",
    "    print('\\n')\n",
    "    print(category, \"| average:\",avg,\"| apps:\", length)"
   ]
  },
  {
   "cell_type": "markdown",
   "metadata": {},
   "source": [
    "The function has been created, it takes in a **category** as string and returns the **average installs** for that category. Since we have a category dictionary we can use this to create average for all of the categories. "
   ]
  },
  {
   "cell_type": "code",
   "execution_count": 44,
   "metadata": {},
   "outputs": [
    {
     "name": "stdout",
     "output_type": "stream",
     "text": [
      "\n",
      "\n",
      "BUSINESS | average: 1226919 | apps: 405\n",
      "\n",
      "\n",
      "LIFESTYLE | average: 1152129 | apps: 345\n",
      "\n",
      "\n",
      "BEAUTY | average: 513152 | apps: 53\n",
      "\n",
      "\n",
      "TRAVEL_AND_LOCAL | average: 2944080 | apps: 202\n",
      "\n",
      "\n",
      "COMICS | average: 817657 | apps: 55\n",
      "\n",
      "\n",
      "PHOTOGRAPHY | average: 7670532 | apps: 242\n",
      "\n",
      "\n",
      "HOUSE_AND_HOME | average: 1331541 | apps: 73\n",
      "\n",
      "\n",
      "BOOKS_AND_REFERENCE | average: 1437212 | apps: 185\n",
      "\n",
      "\n",
      "FINANCE | average: 1086126 | apps: 327\n",
      "\n",
      "\n",
      "VIDEO_PLAYERS | average: 5544878 | apps: 150\n",
      "\n",
      "\n",
      "ART_AND_DESIGN | average: 1986335 | apps: 57\n",
      "\n",
      "\n",
      "AUTO_AND_VEHICLES | average: 647318 | apps: 82\n",
      "\n",
      "\n",
      "SPORTS | average: 2994083 | apps: 299\n",
      "\n",
      "\n",
      "EDUCATION | average: 1833495 | apps: 103\n",
      "\n",
      "\n",
      "MAPS_AND_NAVIGATION | average: 2484105 | apps: 122\n",
      "\n",
      "\n",
      "SHOPPING | average: 4640921 | apps: 194\n",
      "\n",
      "\n",
      "DATING | average: 854029 | apps: 165\n",
      "\n",
      "\n",
      "SOCIAL | average: 3084583 | apps: 223\n",
      "\n",
      "\n",
      "GAME | average: 6272565 | apps: 803\n",
      "\n",
      "\n",
      "LIBRARIES_AND_DEMO | average: 638504 | apps: 83\n",
      "\n",
      "\n",
      "TOOLS | average: 3191461 | apps: 721\n",
      "\n",
      "\n",
      "FOOD_AND_DRINK | average: 1924898 | apps: 110\n",
      "\n",
      "\n",
      "PERSONALIZATION | average: 2549776 | apps: 286\n",
      "\n",
      "\n",
      "FAMILY | average: 2342898 | apps: 1662\n",
      "\n",
      "\n",
      "HEALTH_AND_FITNESS | average: 2005714 | apps: 271\n",
      "\n",
      "\n",
      "MEDICAL | average: 120551 | apps: 313\n",
      "\n",
      "\n",
      "COMMUNICATION | average: 3603485 | apps: 260\n",
      "\n",
      "\n",
      "WEATHER | average: 5074486 | apps: 71\n",
      "\n",
      "\n",
      "EVENTS | average: 253542 | apps: 63\n",
      "\n",
      "\n",
      "NEWS_AND_MAGAZINES | average: 1502842 | apps: 245\n",
      "\n",
      "\n",
      "PARENTING | average: 542604 | apps: 58\n",
      "\n",
      "\n",
      "ENTERTAINMENT | average: 6118250 | apps: 80\n",
      "\n",
      "\n",
      "PRODUCTIVITY | average: 3379657 | apps: 323\n"
     ]
    }
   ],
   "source": [
    "for category in category_freq:\n",
    "    removing_100mil(category)"
   ]
  },
  {
   "cell_type": "markdown",
   "metadata": {},
   "source": [
    "From the code above we get a different order of successfull apps. These are the 8 most successfull categories:\n",
    "\n",
    "- PHOTOGRAPHY   | average: 7 670 532 | apps: 242    \n",
    "- GAME          | average: 6 272 565 | apps: 803    X\n",
    "- ENTERTAINMENT | average: 6 118 250 | apps: 80     \n",
    "- VIDEO_PLAYERS | average: 5 544 878 | apps: 150    \n",
    "- WEATHER       | average: 5 074 486 | apps: 71     X\n",
    "- SHOPPING      | average: 4 640 921 | apps: 194    \n",
    "- COMMUNICATION | average: 3 603 485 | apps: 260    \n",
    "- TOOLS         | average: 3 191 461 | apps: 721    X\n",
    "\n",
    "If we analyze this data, we could say that we probably would not focus on **weather** apps, because this requires outside expertise and we are not prepared to pay for that.\n",
    "\n",
    "When it comes to **Game** and **Tools**, these categories are already pretty flooded compared to the rest, so it would be harder to stand out on the app store. Also, we already know that games are really common at the App Store and we want to stand out on both Google Play and App Store.\n",
    "\n",
    "From the categories that are left, the top standing are **Photography** and **Entertainment** .\n",
    "\n",
    "We earlier created a frequence table for genres at the App Store and will therefore highlight the genres which can be compared to the three categories in google play that are of interest. We find 13 genres that compare well with these three categories.\n",
    "\n",
    "- Entertainment : 6.069\n",
    "- PHOTOGRAPHY : 2.944\n",
    "- Video Players & Editors : 1.771\n",
    "- Entertainment;Music & Video : 0.169\n",
    "- Parenting;Music & Video : 0.068\n",
    "- Education;Music & Video : 0.034\n",
    "- Video Players & Editors;Music & Video : 0.023\n",
    "- Music;Music & Video : 0.023\n",
    "- Entertainment;Pretend Play : 0.023\n",
    "- Video Players & Editors;Creativity : 0.011\n",
    "- Music & Audio;Music & Video : 0.011\n",
    "- Entertainment;Education : 0.011\n",
    "- Casual;Music & Video : 0.011\n",
    "\n",
    "For the highlighted genres in App Store, the most common one is **Entertainment**. A good idea could be to aim for this category/genre. If we want to succeed we should make apps that stand out from the rest of the entertainment apps. We see in the genre table above that **Entertainment:Education** looks like a relatively new area since it is the lowest common among the genres presented here.\n",
    "\n",
    "The runner-up category is **Photography** which also seems pretty popular in the App Store. Just as we specified with **entertainment**, the **Photography** apps will need to stand out, even more so than the entertainment ones because they are higher in number. A safe bet for now could be to therefore only focus on entertaining apps.\n",
    "\n",
    "Mixing **entertainment** with **Photography** could be a way to create some interesting apps."
   ]
  }
 ],
 "metadata": {
  "kernelspec": {
   "display_name": "Python 3",
   "language": "python",
   "name": "python3"
  },
  "language_info": {
   "codemirror_mode": {
    "name": "ipython",
    "version": 3
   },
   "file_extension": ".py",
   "mimetype": "text/x-python",
   "name": "python",
   "nbconvert_exporter": "python",
   "pygments_lexer": "ipython3",
   "version": "3.6.7"
  }
 },
 "nbformat": 4,
 "nbformat_minor": 2
}
