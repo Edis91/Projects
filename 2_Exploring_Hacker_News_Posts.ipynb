{
 "cells": [
  {
   "cell_type": "markdown",
   "metadata": {
    "collapsed": true
   },
   "source": [
    "# Determining optimal posting times for receiving highest number of comments\n",
    "\n",
    "In this project we will look into posts at Hacker News (HN). We want to examine the data and answer a few questions, like:\n",
    "- Do posts aimed at asking Hacker News questions, receive more comments at average, than posts where the user wants to show Hacker News something they find intersting?\n",
    "- Do posts created at certain times recieve more comments on average for **ask hn** or **show hn** posts?\n",
    "\n",
    "We will sort the data between **ask hn** and **show hn** posts. calculate the average number of comments each category receives and focus on the more active category between **ask hn** and **show hn**. In the most active category, we will calculate the average number of comments received, per post and hour. We will then present the top 5 posting hours for receiving the most comments.\n",
    "\n",
    "\n",
    "The [data set](https://www.kaggle.com/hacker-news/hacker-news-posts) consists of 20,000 rows and 7 columns that include information regarding:\n",
    "- **id**: The unique identifier from Hacker News for the post\n",
    "- **title**: The title of the post\n",
    "- **url**: The URL that the posts links to, if it the post has a URL\n",
    "- **num_points**: The number of points the post acquired, calculated as the total    number of upvotes minus the total number of downvotes\n",
    "- **num_comments**: The number of comments that were made on the post\n",
    "- **author**: The username of the person who submitted the post\n",
    "- **created_at**: The date and time at which the post was submitted\n",
    "\n",
    "For now, we will open the **hacker_news.nsv** file, read it, and turn it into a list we store into the variable **hn**. We will then print the first 5 rows of the data set.\n"
   ]
  },
  {
   "cell_type": "code",
   "execution_count": 1,
   "metadata": {
    "collapsed": false
   },
   "outputs": [
    {
     "name": "stdout",
     "output_type": "stream",
     "text": [
      "[['id', 'title', 'url', 'num_points', 'num_comments', 'author', 'created_at'], ['12224879', 'Interactive Dynamic Video', 'http://www.interactivedynamicvideo.com/', '386', '52', 'ne0phyte', '8/4/2016 11:52'], ['10975351', 'How to Use Open Source and Shut the Fuck Up at the Same Time', 'http://hueniverse.com/2016/01/26/how-to-use-open-source-and-shut-the-fuck-up-at-the-same-time/', '39', '10', 'josep2', '1/26/2016 19:30'], ['11964716', \"Florida DJs May Face Felony for April Fools' Water Joke\", 'http://www.thewire.com/entertainment/2013/04/florida-djs-april-fools-water-joke/63798/', '2', '1', 'vezycash', '6/23/2016 22:20'], ['11919867', 'Technology ventures: From Idea to Enterprise', 'https://www.amazon.com/Technology-Ventures-Enterprise-Thomas-Byers/dp/0073523429', '3', '1', 'hswarna', '6/17/2016 0:01']]\n"
     ]
    }
   ],
   "source": [
    "from csv import reader\n",
    "open_file = open('hacker_news.csv')\n",
    "read_file = reader(open_file)\n",
    "hn = list(read_file)\n",
    "print(hn[:5])\n"
   ]
  },
  {
   "cell_type": "markdown",
   "metadata": {},
   "source": [
    "As we see we also got the header as part of the data set, let us change this and the headers into a variable **headers**, and also remove it from the data set."
   ]
  },
  {
   "cell_type": "code",
   "execution_count": 2,
   "metadata": {
    "collapsed": false
   },
   "outputs": [
    {
     "name": "stdout",
     "output_type": "stream",
     "text": [
      "['id', 'title', 'url', 'num_points', 'num_comments', 'author', 'created_at']\n"
     ]
    }
   ],
   "source": [
    "headers = hn[0]\n",
    "hn = hn[1:]\n",
    "print(headers)"
   ]
  },
  {
   "cell_type": "markdown",
   "metadata": {},
   "source": [
    "## Sorting the data set into their respective category\n",
    "Since we are interested in posts where users **ask Hn** or want to **Show HN**, we will try to sepeare all these posts into seperate lists."
   ]
  },
  {
   "cell_type": "code",
   "execution_count": 3,
   "metadata": {
    "collapsed": true
   },
   "outputs": [],
   "source": [
    "ask_posts = []\n",
    "show_posts = []\n",
    "other_posts = []"
   ]
  },
  {
   "cell_type": "code",
   "execution_count": 4,
   "metadata": {
    "collapsed": false
   },
   "outputs": [
    {
     "name": "stdout",
     "output_type": "stream",
     "text": [
      "There are this many posts in the list of ask_posts: 1744\n",
      "There are this many posts in the list of show_posts: 1162\n",
      "There are this many posts in the list of other_posts: 17194\n"
     ]
    }
   ],
   "source": [
    "for row in hn:\n",
    "    title = row[1]\n",
    "    if title.lower().startswith(\"ask hn\"):\n",
    "        ask_posts.append(row)\n",
    "    elif title.lower().startswith(\"show hn\"):\n",
    "        show_posts.append(row)\n",
    "    else:\n",
    "        other_posts.append(row)\n",
    "print('There are this many posts in the list of ask_posts:',len(ask_posts))\n",
    "print('There are this many posts in the list of show_posts:',len(show_posts))\n",
    "print('There are this many posts in the list of other_posts:',len(other_posts))"
   ]
  },
  {
   "cell_type": "markdown",
   "metadata": {},
   "source": [
    "We see that **Other posts** receive even more comments than **ask hn** or **show hn** posts. We are however focusing on ask or show posts as specified in the beginning.\n",
    "\n",
    "Let us take a look at the first 5 posts of the ask_posts list."
   ]
  },
  {
   "cell_type": "code",
   "execution_count": 5,
   "metadata": {
    "collapsed": false
   },
   "outputs": [
    {
     "name": "stdout",
     "output_type": "stream",
     "text": [
      "[['12296411', 'Ask HN: How to improve my personal website?', '', '2', '6', 'ahmedbaracat', '8/16/2016 9:55'], ['10610020', 'Ask HN: Am I the only one outraged by Twitter shutting down share counts?', '', '28', '29', 'tkfx', '11/22/2015 13:43'], ['11610310', 'Ask HN: Aby recent changes to CSS that broke mobile?', '', '1', '1', 'polskibus', '5/2/2016 10:14'], ['12210105', 'Ask HN: Looking for Employee #3 How do I do it?', '', '1', '3', 'sph130', '8/2/2016 14:20'], ['10394168', 'Ask HN: Someone offered to buy my browser extension from me. What now?', '', '28', '17', 'roykolak', '10/15/2015 16:38']]\n"
     ]
    }
   ],
   "source": [
    "print(ask_posts[:5])"
   ]
  },
  {
   "cell_type": "markdown",
   "metadata": {},
   "source": [
    "Now, let us take a look at the first 5 posts of the show_posts list:"
   ]
  },
  {
   "cell_type": "code",
   "execution_count": 6,
   "metadata": {
    "collapsed": false
   },
   "outputs": [
    {
     "name": "stdout",
     "output_type": "stream",
     "text": [
      "[['10627194', 'Show HN: Wio Link  ESP8266 Based Web of Things Hardware Development Platform', 'https://iot.seeed.cc', '26', '22', 'kfihihc', '11/25/2015 14:03'], ['10646440', 'Show HN: Something pointless I made', 'http://dn.ht/picklecat/', '747', '102', 'dhotson', '11/29/2015 22:46'], ['11590768', 'Show HN: Shanhu.io, a programming playground powered by e8vm', 'https://shanhu.io', '1', '1', 'h8liu', '4/28/2016 18:05'], ['12178806', 'Show HN: Webscope  Easy way for web developers to communicate with Clients', 'http://webscopeapp.com', '3', '3', 'fastbrick', '7/28/2016 7:11'], ['10872799', 'Show HN: GeoScreenshot  Easily test Geo-IP based web pages', 'https://www.geoscreenshot.com/', '1', '9', 'kpsychwave', '1/9/2016 20:45']]\n"
     ]
    }
   ],
   "source": [
    "print(show_posts[:5])"
   ]
  },
  {
   "cell_type": "markdown",
   "metadata": {},
   "source": [
    "## Counting comments for \"ask hn\" and \"show hn\"\" posts\n",
    "\n",
    "Next, we will determine which kind of posts that receive more comments on average."
   ]
  },
  {
   "cell_type": "code",
   "execution_count": 23,
   "metadata": {
    "collapsed": false
   },
   "outputs": [
    {
     "name": "stdout",
     "output_type": "stream",
     "text": [
      "Average number of comments per ask posts are:  14.038417431192661\n",
      "Average number of comments per show posts are:  10.31669535283993\n",
      "Average number of comments per other posts are:  26.8730371059672\n"
     ]
    }
   ],
   "source": [
    "total_ask_comments = 0\n",
    "for post in ask_posts:\n",
    "    total_ask_comments += int(post[4])\n",
    "    \n",
    "avg_ask_comments = total_ask_comments / len(ask_posts)\n",
    "print(\"Average number of comments per ask posts are: \", avg_ask_comments)\n",
    "\n",
    "total_show_comments = 0\n",
    "for post in show_posts:\n",
    "    total_show_comments += int(post[4])\n",
    "    \n",
    "avg_show_comments = total_show_comments / len(show_posts)\n",
    "print(\"Average number of comments per show posts are: \", avg_show_comments)    \n",
    "    \n",
    "total_other_comments = 0\n",
    "for post in other_posts:\n",
    "    total_other_comments += int(post[4])\n",
    "    \n",
    "avg_other_comments = total_other_comments / len(other_posts)\n",
    "print(\"Average number of comments per other posts are: \", avg_other_comments)\n"
   ]
  },
  {
   "cell_type": "markdown",
   "metadata": {},
   "source": [
    "We see that posts aimed at asking questions have a higher average of comments per post. We will focus the remaining analysis on the ask posts."
   ]
  },
  {
   "cell_type": "markdown",
   "metadata": {},
   "source": [
    "## Most active hours for commenting\n",
    "Now we determine if ask posts created at a certain time receive more comments than the rest. To perform this analysis, we will:\n",
    "- Calculate the amount of ask posts created in each hour of the day, as well as the number of comments received.\n",
    "- Calculate the average number of comments ask post receive for each hour they were created."
   ]
  },
  {
   "cell_type": "code",
   "execution_count": 8,
   "metadata": {
    "collapsed": false
   },
   "outputs": [
    {
     "name": "stdout",
     "output_type": "stream",
     "text": [
      "{0: 55, 1: 60, 2: 58, 3: 54, 4: 47, 5: 46, 6: 44, 7: 34, 8: 48, 9: 45, 10: 59, 11: 58, 12: 73, 13: 85, 14: 107, 15: 116, 16: 108, 17: 100, 18: 109, 19: 110, 20: 80, 21: 109, 22: 71, 23: 68}\n",
      "\n",
      "\n",
      "{0: 447, 1: 683, 2: 1381, 3: 421, 4: 337, 5: 464, 6: 397, 7: 267, 8: 492, 9: 251, 10: 793, 11: 641, 12: 687, 13: 1253, 14: 1416, 15: 4477, 16: 1814, 17: 1146, 18: 1439, 19: 1188, 20: 1722, 21: 1745, 22: 479, 23: 543}\n"
     ]
    }
   ],
   "source": [
    "import datetime as dt\n",
    "result_list = []\n",
    "for row in ask_posts:\n",
    "    result_list.append(\n",
    "        [row[6],int(row[4])]) \n",
    "    \n",
    "counts_by_hour = {}\n",
    "comments_by_hour = {}\n",
    "\n",
    "date_format = '%m/%d/%Y %H:%M'\n",
    "\n",
    "for row in result_list:\n",
    "    date = row[0]\n",
    "    date = dt.datetime.strptime(date,date_format)\n",
    "    hour = date.hour\n",
    "    if hour not in counts_by_hour:\n",
    "        counts_by_hour[hour] = 1\n",
    "        comments_by_hour[hour] = int(row[1])\n",
    "    else:\n",
    "        counts_by_hour[hour] += 1\n",
    "        comments_by_hour[hour] += int(row[1])  \n",
    "        \n",
    "print(counts_by_hour)\n",
    "print(\"\\n\")\n",
    "print(comments_by_hour)"
   ]
  },
  {
   "cell_type": "markdown",
   "metadata": {},
   "source": [
    "## Calculating average comments per hour\n",
    "Now we will calculate the average number of comments per hour by:\n",
    "- Iterating in the dictionary **counts_by_hour** and for each iteration we:\n",
    "    - calculate the average number of comments per post and hour.\n",
    "    - append the **hour** and **average number of comments** to the list **avg_by_hour**."
   ]
  },
  {
   "cell_type": "code",
   "execution_count": 12,
   "metadata": {
    "collapsed": false
   },
   "outputs": [
    {
     "name": "stdout",
     "output_type": "stream",
     "text": [
      "[0, 8.127272727272727]\n",
      "[1, 11.383333333333333]\n",
      "[2, 23.810344827586206]\n",
      "[3, 7.796296296296297]\n",
      "[4, 7.170212765957447]\n",
      "[5, 10.08695652173913]\n",
      "[6, 9.022727272727273]\n",
      "[7, 7.852941176470588]\n",
      "[8, 10.25]\n",
      "[9, 5.5777777777777775]\n",
      "[10, 13.440677966101696]\n",
      "[11, 11.051724137931034]\n",
      "[12, 9.41095890410959]\n",
      "[13, 14.741176470588234]\n",
      "[14, 13.233644859813085]\n",
      "[15, 38.5948275862069]\n",
      "[16, 16.796296296296298]\n",
      "[17, 11.46]\n",
      "[18, 13.20183486238532]\n",
      "[19, 10.8]\n",
      "[20, 21.525]\n",
      "[21, 16.009174311926607]\n",
      "[22, 6.746478873239437]\n",
      "[23, 7.985294117647059]\n"
     ]
    }
   ],
   "source": [
    "avg_by_hour = []\n",
    "for hour in counts_by_hour:\n",
    "    comments = comments_by_hour[hour]\n",
    "    count = counts_by_hour[hour]\n",
    "    avg =  comments/count \n",
    "    avg_by_hour.append([hour,avg])\n",
    "for row in avg_by_hour:\n",
    "    print(row)"
   ]
  },
  {
   "cell_type": "markdown",
   "metadata": {},
   "source": [
    "## Sorting the results\n",
    "This list will now be sorted so we can easier find the highest number of comments and hour. To be able to sort it we first need to swap the columns, this will be done in the **swap_avg_by_hour**."
   ]
  },
  {
   "cell_type": "code",
   "execution_count": 24,
   "metadata": {
    "collapsed": false
   },
   "outputs": [],
   "source": [
    "swap_avg_by_hour=[]\n",
    "for row in avg_by_hour:\n",
    "    swap_avg_by_hour.append([row[1],row[0]])\n",
    "\n",
    "sorted_swap = sorted(swap_avg_by_hour,reverse=True)"
   ]
  },
  {
   "cell_type": "markdown",
   "metadata": {},
   "source": [
    "# Conclusion - The top 5 best times to post\n",
    "Below we present our findings with the best posting hours. "
   ]
  },
  {
   "cell_type": "code",
   "execution_count": 21,
   "metadata": {
    "collapsed": false
   },
   "outputs": [
    {
     "name": "stdout",
     "output_type": "stream",
     "text": [
      "15:00: 38.59 average comments per post\n",
      "02:00: 23.81 average comments per post\n",
      "20:00: 21.52 average comments per post\n",
      "16:00: 16.80 average comments per post\n",
      "21:00: 16.01 average comments per post\n"
     ]
    }
   ],
   "source": [
    "string=\"{}: {:.2f} average comments per post\"\n",
    "for avg,hour in sorted_swap[:5]:\n",
    "    time = dt.datetime.strptime(str(hour),\"%H\")\n",
    "    hour = dt.datetime.strftime(time,\"%H:%M\")\n",
    "    print(string.format(hour,avg))"
   ]
  },
  {
   "cell_type": "markdown",
   "metadata": {},
   "source": [
    "The point of this project was to find the top hours to post for getting the most amount of comments. According to our results, the best time to post is at 3pm. There is approximately a 60% increase in the number of posts from the best hour to the second best(2 am ). The most active hours are at **3-5pm, 8-10pm** and around **2am**."
   ]
  }
 ],
 "metadata": {
  "kernelspec": {
   "display_name": "Python 3",
   "language": "python",
   "name": "python3"
  },
  "language_info": {
   "codemirror_mode": {
    "name": "ipython",
    "version": 3
   },
   "file_extension": ".py",
   "mimetype": "text/x-python",
   "name": "python",
   "nbconvert_exporter": "python",
   "pygments_lexer": "ipython3",
   "version": "3.4.3"
  }
 },
 "nbformat": 4,
 "nbformat_minor": 2
}
